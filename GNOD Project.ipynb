{
 "cells": [
  {
   "cell_type": "markdown",
   "id": "22620087",
   "metadata": {},
   "source": [
    "# GNOD Project"
   ]
  },
  {
   "cell_type": "code",
   "execution_count": 1,
   "id": "1381214a",
   "metadata": {},
   "outputs": [],
   "source": [
    "import pickle\n",
    "import pandas as pd"
   ]
  },
  {
   "cell_type": "code",
   "execution_count": 59,
   "id": "4a995e00",
   "metadata": {},
   "outputs": [],
   "source": [
    "with open(\"audio_clustered.txt\", \"rb\") as f:   # Unpickling\n",
    "    audio_clustered = pickle.load(f)\n",
    "    \n",
    "with open(\"db_songs_clustered.txt\", \"rb\") as f:   # Unpickling\n",
    "    db_songs = pickle.load(f)\n",
    "    \n",
    "with open(\"top_songs.txt\", \"rb\") as f:   # Unpickling\n",
    "    top_songs = pickle.load(f)"
   ]
  },
  {
   "cell_type": "code",
   "execution_count": 60,
   "id": "ba08cea6",
   "metadata": {},
   "outputs": [],
   "source": [
    "knn = pickle.load(open('model.p','rb'))\n",
    "pca = pickle.load(open('pca_model.p','rb'))"
   ]
  },
  {
   "cell_type": "code",
   "execution_count": 61,
   "id": "a529159f",
   "metadata": {},
   "outputs": [],
   "source": [
    "import spotipy\n",
    "from spotipy.oauth2 import SpotifyClientCredentials\n",
    "\n",
    "secrets_file = open(\"secrets.txt\",\"r\")\n",
    "string = secrets_file.read()\n",
    "string.split('\\n')\n",
    "secrets_dict={}\n",
    "for line in string.split('\\n'):\n",
    "    if len(line) > 0:\n",
    "        secrets_dict[line.split(':')[0]]=line.split(':')[1]\n",
    "        \n",
    "sp = spotipy.Spotify(auth_manager=SpotifyClientCredentials(client_id=secrets_dict['cid'],\n",
    "                                                           client_secret=secrets_dict['csecret']))"
   ]
  },
  {
   "cell_type": "code",
   "execution_count": 83,
   "id": "620e84f7",
   "metadata": {},
   "outputs": [
    {
     "name": "stdout",
     "output_type": "stream",
     "text": [
      "Enter your song: Tides\n",
      "Enter your artist: Ed Sheeran\n",
      "Recommended song: title    Spiritual Thing\n",
      "Name: 861, dtype: object\n"
     ]
    }
   ],
   "source": [
    "from random import randint\n",
    "\n",
    "def gnod (top=top_songs, audio_clustered=audio_clustered, db=db_songs, model=pca):\n",
    "    song = input(\"Enter your song: \")\n",
    "    artist = input(\"Enter your artist: \")\n",
    "    # searching the song in our Hot songs list\n",
    "    for i in range(len(top)):\n",
    "        # if it's in our list, then recommend another song from the list\n",
    "        if ((top['title'][i] == song) & (top['artist'][i] == artist)):\n",
    "            rand_number = randint(0,len(top))\n",
    "            return(print(\"I would recommend you to listen to: \\\"\", top['title'][rand_number], \"\\\" by\", top['artist'][rand_number]))\n",
    "    # if is not a Hot song \n",
    "    results = sp.search(q=song, limit=50)\n",
    "    for i in range(len(results[\"tracks\"][\"items\"])):\n",
    "        if ((results[\"tracks\"][\"items\"][i][\"artists\"][0][\"name\"]) == (artist)):\n",
    "            uri = results[\"tracks\"][\"items\"][i][\"uri\"]\n",
    "            audio = pd.DataFrame(sp.audio_features('spotify:track:2JiHR4gCDjXwYVRDmwdk95'))[['danceability', 'energy', 'key', 'loudness', 'mode', 'speechiness', 'acousticness', 'instrumentalness', 'liveness', 'valence', 'tempo']]\n",
    "            \n",
    "            # in the last row I put the song to predict\n",
    "            X = pd.concat([audio_clustered.drop(['cluster'], axis=1), audio], axis=0)\n",
    "            X_normalized = pd.DataFrame(StandardScaler().fit_transform(X), columns=audio.columns)\n",
    "            model.fit(X_normalized)\n",
    "            X_normalized_pca = model.transform(X_normalized)\n",
    "            y_pred_pca = pd.Series(knn.predict(X_normalized_pca),name='cluster')\n",
    "\n",
    "            # this is the predicted value\n",
    "            pred_cluster = y_pred_pca[len(y_pred_pca)-1]\n",
    "            songs_recom = db[db['cluster'] == pred_cluster]\n",
    "            rand_number = randint(0,len(songs_recom))\n",
    "            recommended_song = songs_recom.loc[:,['title']].iloc[rand_number]\n",
    "            return(print(\"Recommended song:\", recommended_song))\n",
    "            \n",
    "    return(\"There is no song with this name\")\n",
    "\n",
    "gnod()"
   ]
  },
  {
   "cell_type": "code",
   "execution_count": null,
   "id": "ed8a3e01",
   "metadata": {},
   "outputs": [],
   "source": []
  },
  {
   "cell_type": "code",
   "execution_count": null,
   "id": "166dc7ad",
   "metadata": {},
   "outputs": [],
   "source": []
  },
  {
   "cell_type": "code",
   "execution_count": null,
   "id": "ce19c374",
   "metadata": {},
   "outputs": [],
   "source": []
  }
 ],
 "metadata": {
  "kernelspec": {
   "display_name": "Python 3",
   "language": "python",
   "name": "python3"
  },
  "language_info": {
   "codemirror_mode": {
    "name": "ipython",
    "version": 3
   },
   "file_extension": ".py",
   "mimetype": "text/x-python",
   "name": "python",
   "nbconvert_exporter": "python",
   "pygments_lexer": "ipython3",
   "version": "3.8.8"
  }
 },
 "nbformat": 4,
 "nbformat_minor": 5
}
