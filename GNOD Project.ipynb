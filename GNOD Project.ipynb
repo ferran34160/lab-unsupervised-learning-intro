{
 "cells": [
  {
   "cell_type": "markdown",
   "id": "22620087",
   "metadata": {},
   "source": [
    "# GNOD Project"
   ]
  },
  {
   "cell_type": "code",
   "execution_count": 1,
   "id": "1381214a",
   "metadata": {},
   "outputs": [],
   "source": [
    "import pickle\n",
    "import pandas as pd\n",
    "from sklearn.preprocessing import StandardScaler"
   ]
  },
  {
   "cell_type": "code",
   "execution_count": 2,
   "id": "4a995e00",
   "metadata": {},
   "outputs": [],
   "source": [
    "with open(\"db_songs_clustered.txt\", \"rb\") as f:   # Unpickling\n",
    "    db_songs = pickle.load(f)\n",
    "    \n",
    "with open(\"top_songs.txt\", \"rb\") as f:   # Unpickling\n",
    "    top_songs = pickle.load(f)"
   ]
  },
  {
   "cell_type": "code",
   "execution_count": 3,
   "id": "ba08cea6",
   "metadata": {},
   "outputs": [],
   "source": [
    "model = pickle.load(open('model.p','rb'))\n",
    "scaler = pickle.load(open('scaler.p','rb'))"
   ]
  },
  {
   "cell_type": "code",
   "execution_count": 4,
   "id": "a529159f",
   "metadata": {},
   "outputs": [],
   "source": [
    "import spotipy\n",
    "from spotipy.oauth2 import SpotifyClientCredentials\n",
    "\n",
    "secrets_file = open(\"secrets.txt\",\"r\")\n",
    "string = secrets_file.read()\n",
    "string.split('\\n')\n",
    "secrets_dict={}\n",
    "for line in string.split('\\n'):\n",
    "    if len(line) > 0:\n",
    "        secrets_dict[line.split(':')[0]]=line.split(':')[1]\n",
    "        \n",
    "sp = spotipy.Spotify(auth_manager=SpotifyClientCredentials(client_id=secrets_dict['cid'],\n",
    "                                                           client_secret=secrets_dict['csecret']))"
   ]
  },
  {
   "cell_type": "code",
   "execution_count": 50,
   "id": "6fd76fa4",
   "metadata": {},
   "outputs": [
    {
     "name": "stdout",
     "output_type": "stream",
     "text": [
      "Enter your song: l'empordà\n",
      "Enter your artist: Sopa de cabra\n",
      "Not a Hot Song :( But, we recommend you to listen to this song: \" Without You \" by Michael Minelli\n"
     ]
    }
   ],
   "source": [
    "from random import randint\n",
    "\n",
    "end = False\n",
    "while (end == False):\n",
    "    song = input(\"Enter your song: \")\n",
    "    artist = input(\"Enter your artist: \")\n",
    "    top100 = False\n",
    "    for i in range(len(top_songs)):\n",
    "        # if it's a Hot Song, then recommend another song from the list\n",
    "        if ((top_songs['title'][i].lower() == song.lower()) & (top_songs['artist'][i].lower() == artist.lower())):\n",
    "            rand_number = randint(0,len(top_songs))\n",
    "            # printing recommendation:\n",
    "            # print(\"I would recommend you to listen to: \\\"\", top_songs['title'][rand_number], \n",
    "            # \"\\\" by\", top_songs['artist'][rand_number])\n",
    "            print(\"This is a Hot Song!! I would recommend you to listen to: \\\"\", top_songs['title'][rand_number], \"\\\" by\", top_songs['artist'][rand_number])\n",
    "            top100 = True    \n",
    "            end = True\n",
    "            break\n",
    "    # if is not a Hot song then predict one song in the same cluster\n",
    "    if (top100 == False):\n",
    "        results = sp.search(q=song, limit=50)\n",
    "        if (results[\"tracks\"][\"items\"] == []):\n",
    "            print(\"There is no song with this name and artist in Spotify.\")\n",
    "            print(\"Please enter a new search.\")\n",
    "        else:\n",
    "            for j in range(len(results[\"tracks\"][\"items\"])):\n",
    "                if ((results[\"tracks\"][\"items\"][j][\"artists\"][0][\"name\"].lower()) == (artist.lower())):\n",
    "                    uri = results[\"tracks\"][\"items\"][j][\"uri\"]\n",
    "                    # audio = pd.DataFrame(sp.audio_features(uri))[['danceability', 'energy', 'key', 'loudness', \n",
    "                    # 'mode', 'speechiness', 'acousticness', 'instrumentalness', 'liveness', 'valence', 'tempo']]\n",
    "                    audio = pd.DataFrame(sp.audio_features(uri))[['danceability', 'energy', 'key', 'loudness', 'mode', 'speechiness', 'acousticness', 'instrumentalness', 'liveness', 'valence', 'tempo']]\n",
    "\n",
    "                    audio_scaled = scaler.transform(audio)\n",
    "                    # this is the predicted cluster\n",
    "                    pred_cluster = pd.Series(model.predict(audio_scaled),name='cluster')\n",
    "\n",
    "                    # searching a random song in this cluster\n",
    "                    songs_recom = db_songs[db_songs['cluster'] == pred_cluster[0]]\n",
    "                    rand_number = randint(0,len(songs_recom))\n",
    "                    recommended_song = songs_recom.loc[:,['title']].iloc[rand_number]\n",
    "                    recommended_artist = songs_recom.loc[:,['artist']].iloc[rand_number]\n",
    "                    print(\"Not a Hot Song :( But, we recommend you to listen to this song: \\\"\", recommended_song.title,\"\\\" by\", recommended_artist.artist)\n",
    "                    end = True\n",
    "                    break\n"
   ]
  }
 ],
 "metadata": {
  "kernelspec": {
   "display_name": "Python 3",
   "language": "python",
   "name": "python3"
  },
  "language_info": {
   "codemirror_mode": {
    "name": "ipython",
    "version": 3
   },
   "file_extension": ".py",
   "mimetype": "text/x-python",
   "name": "python",
   "nbconvert_exporter": "python",
   "pygments_lexer": "ipython3",
   "version": "3.8.8"
  }
 },
 "nbformat": 4,
 "nbformat_minor": 5
}
