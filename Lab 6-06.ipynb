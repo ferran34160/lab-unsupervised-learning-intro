{
 "cells": [
  {
   "cell_type": "markdown",
   "id": "5ab5c7b3",
   "metadata": {},
   "source": [
    "# Lab | Unsupervised learning intro"
   ]
  },
  {
   "cell_type": "code",
   "execution_count": 85,
   "id": "95b21196",
   "metadata": {},
   "outputs": [],
   "source": [
    "from bs4 import BeautifulSoup\n",
    "import requests\n",
    "import pandas as pd"
   ]
  },
  {
   "cell_type": "code",
   "execution_count": 86,
   "id": "6f3136a4",
   "metadata": {},
   "outputs": [],
   "source": [
    "import pickle\n",
    "\n",
    "with open(\"db_songs.txt\", \"rb\") as f:   # Unpickling\n",
    "    db_songs = pickle.load(f)\n",
    "    \n",
    "with open(\"top_songs.txt\", \"rb\") as f:   # Unpickling\n",
    "    top_songs = pickle.load(f)\n",
    "     "
   ]
  },
  {
   "cell_type": "code",
   "execution_count": 87,
   "id": "b4e796d7",
   "metadata": {},
   "outputs": [
    {
     "data": {
      "text/plain": [
       "3204"
      ]
     },
     "execution_count": 87,
     "metadata": {},
     "output_type": "execute_result"
    }
   ],
   "source": [
    "len(db_songs)"
   ]
  },
  {
   "cell_type": "code",
   "execution_count": 88,
   "id": "ad4b76ec",
   "metadata": {},
   "outputs": [
    {
     "data": {
      "text/plain": [
       "894"
      ]
     },
     "execution_count": 88,
     "metadata": {},
     "output_type": "execute_result"
    }
   ],
   "source": [
    "len(top_songs)"
   ]
  },
  {
   "cell_type": "markdown",
   "id": "c4d8085e",
   "metadata": {},
   "source": [
    "### Preprocessing"
   ]
  },
  {
   "cell_type": "code",
   "execution_count": 89,
   "id": "8e7a116a",
   "metadata": {},
   "outputs": [
    {
     "data": {
      "text/plain": [
       "title                object\n",
       "artist               object\n",
       "uri                  object\n",
       "danceability        float64\n",
       "energy              float64\n",
       "key                 float64\n",
       "loudness            float64\n",
       "mode                float64\n",
       "speechiness         float64\n",
       "acousticness        float64\n",
       "instrumentalness    float64\n",
       "liveness            float64\n",
       "valence             float64\n",
       "tempo               float64\n",
       "type                 object\n",
       "id                   object\n",
       "track_href           object\n",
       "analysis_url         object\n",
       "duration_ms         float64\n",
       "time_signature      float64\n",
       "dtype: object"
      ]
     },
     "execution_count": 89,
     "metadata": {},
     "output_type": "execute_result"
    }
   ],
   "source": [
    "db_songs.dtypes"
   ]
  },
  {
   "cell_type": "code",
   "execution_count": 90,
   "id": "1fbbfedc",
   "metadata": {},
   "outputs": [],
   "source": [
    "X = db_songs.select_dtypes(include='number')\n",
    "X = X.drop(['duration_ms', 'time_signature'], axis=1)"
   ]
  },
  {
   "cell_type": "code",
   "execution_count": 91,
   "id": "bbb94f39",
   "metadata": {},
   "outputs": [
    {
     "data": {
      "text/plain": [
       "danceability        float64\n",
       "energy              float64\n",
       "key                 float64\n",
       "loudness            float64\n",
       "mode                float64\n",
       "speechiness         float64\n",
       "acousticness        float64\n",
       "instrumentalness    float64\n",
       "liveness            float64\n",
       "valence             float64\n",
       "tempo               float64\n",
       "dtype: object"
      ]
     },
     "execution_count": 91,
     "metadata": {},
     "output_type": "execute_result"
    }
   ],
   "source": [
    "X.dtypes"
   ]
  },
  {
   "cell_type": "code",
   "execution_count": 92,
   "id": "02323773",
   "metadata": {},
   "outputs": [
    {
     "data": {
      "text/html": [
       "<div>\n",
       "<style scoped>\n",
       "    .dataframe tbody tr th:only-of-type {\n",
       "        vertical-align: middle;\n",
       "    }\n",
       "\n",
       "    .dataframe tbody tr th {\n",
       "        vertical-align: top;\n",
       "    }\n",
       "\n",
       "    .dataframe thead th {\n",
       "        text-align: right;\n",
       "    }\n",
       "</style>\n",
       "<table border=\"1\" class=\"dataframe\">\n",
       "  <thead>\n",
       "    <tr style=\"text-align: right;\">\n",
       "      <th></th>\n",
       "      <th>count</th>\n",
       "      <th>mean</th>\n",
       "      <th>std</th>\n",
       "      <th>min</th>\n",
       "      <th>25%</th>\n",
       "      <th>50%</th>\n",
       "      <th>75%</th>\n",
       "      <th>max</th>\n",
       "    </tr>\n",
       "  </thead>\n",
       "  <tbody>\n",
       "    <tr>\n",
       "      <th>danceability</th>\n",
       "      <td>3204.0</td>\n",
       "      <td>0.614429</td>\n",
       "      <td>0.148952</td>\n",
       "      <td>0.117000</td>\n",
       "      <td>0.512000</td>\n",
       "      <td>0.6210</td>\n",
       "      <td>0.723</td>\n",
       "      <td>0.981</td>\n",
       "    </tr>\n",
       "    <tr>\n",
       "      <th>energy</th>\n",
       "      <td>3204.0</td>\n",
       "      <td>0.668825</td>\n",
       "      <td>0.236991</td>\n",
       "      <td>0.011700</td>\n",
       "      <td>0.526000</td>\n",
       "      <td>0.7110</td>\n",
       "      <td>0.864</td>\n",
       "      <td>0.997</td>\n",
       "    </tr>\n",
       "    <tr>\n",
       "      <th>key</th>\n",
       "      <td>3204.0</td>\n",
       "      <td>5.364544</td>\n",
       "      <td>3.657359</td>\n",
       "      <td>0.000000</td>\n",
       "      <td>2.000000</td>\n",
       "      <td>6.0000</td>\n",
       "      <td>9.000</td>\n",
       "      <td>11.000</td>\n",
       "    </tr>\n",
       "    <tr>\n",
       "      <th>loudness</th>\n",
       "      <td>3204.0</td>\n",
       "      <td>-7.374058</td>\n",
       "      <td>4.171869</td>\n",
       "      <td>-28.013000</td>\n",
       "      <td>-9.032250</td>\n",
       "      <td>-6.5340</td>\n",
       "      <td>-4.575</td>\n",
       "      <td>1.634</td>\n",
       "    </tr>\n",
       "    <tr>\n",
       "      <th>mode</th>\n",
       "      <td>3204.0</td>\n",
       "      <td>0.543695</td>\n",
       "      <td>0.498165</td>\n",
       "      <td>0.000000</td>\n",
       "      <td>0.000000</td>\n",
       "      <td>1.0000</td>\n",
       "      <td>1.000</td>\n",
       "      <td>1.000</td>\n",
       "    </tr>\n",
       "    <tr>\n",
       "      <th>speechiness</th>\n",
       "      <td>3204.0</td>\n",
       "      <td>0.103112</td>\n",
       "      <td>0.105007</td>\n",
       "      <td>0.023100</td>\n",
       "      <td>0.041000</td>\n",
       "      <td>0.0577</td>\n",
       "      <td>0.112</td>\n",
       "      <td>0.920</td>\n",
       "    </tr>\n",
       "    <tr>\n",
       "      <th>acousticness</th>\n",
       "      <td>3204.0</td>\n",
       "      <td>0.222295</td>\n",
       "      <td>0.297296</td>\n",
       "      <td>0.000005</td>\n",
       "      <td>0.005975</td>\n",
       "      <td>0.0631</td>\n",
       "      <td>0.343</td>\n",
       "      <td>0.988</td>\n",
       "    </tr>\n",
       "    <tr>\n",
       "      <th>instrumentalness</th>\n",
       "      <td>3204.0</td>\n",
       "      <td>0.221938</td>\n",
       "      <td>0.342269</td>\n",
       "      <td>0.000000</td>\n",
       "      <td>0.000003</td>\n",
       "      <td>0.0032</td>\n",
       "      <td>0.407</td>\n",
       "      <td>0.977</td>\n",
       "    </tr>\n",
       "    <tr>\n",
       "      <th>liveness</th>\n",
       "      <td>3204.0</td>\n",
       "      <td>0.178504</td>\n",
       "      <td>0.138379</td>\n",
       "      <td>0.021500</td>\n",
       "      <td>0.095200</td>\n",
       "      <td>0.1200</td>\n",
       "      <td>0.217</td>\n",
       "      <td>0.970</td>\n",
       "    </tr>\n",
       "    <tr>\n",
       "      <th>valence</th>\n",
       "      <td>3204.0</td>\n",
       "      <td>0.411693</td>\n",
       "      <td>0.247204</td>\n",
       "      <td>0.033500</td>\n",
       "      <td>0.200000</td>\n",
       "      <td>0.3870</td>\n",
       "      <td>0.605</td>\n",
       "      <td>0.978</td>\n",
       "    </tr>\n",
       "    <tr>\n",
       "      <th>tempo</th>\n",
       "      <td>3204.0</td>\n",
       "      <td>128.216592</td>\n",
       "      <td>31.928118</td>\n",
       "      <td>38.006000</td>\n",
       "      <td>101.957000</td>\n",
       "      <td>125.0180</td>\n",
       "      <td>151.666</td>\n",
       "      <td>208.050</td>\n",
       "    </tr>\n",
       "  </tbody>\n",
       "</table>\n",
       "</div>"
      ],
      "text/plain": [
       "                   count        mean        std        min         25%  \\\n",
       "danceability      3204.0    0.614429   0.148952   0.117000    0.512000   \n",
       "energy            3204.0    0.668825   0.236991   0.011700    0.526000   \n",
       "key               3204.0    5.364544   3.657359   0.000000    2.000000   \n",
       "loudness          3204.0   -7.374058   4.171869 -28.013000   -9.032250   \n",
       "mode              3204.0    0.543695   0.498165   0.000000    0.000000   \n",
       "speechiness       3204.0    0.103112   0.105007   0.023100    0.041000   \n",
       "acousticness      3204.0    0.222295   0.297296   0.000005    0.005975   \n",
       "instrumentalness  3204.0    0.221938   0.342269   0.000000    0.000003   \n",
       "liveness          3204.0    0.178504   0.138379   0.021500    0.095200   \n",
       "valence           3204.0    0.411693   0.247204   0.033500    0.200000   \n",
       "tempo             3204.0  128.216592  31.928118  38.006000  101.957000   \n",
       "\n",
       "                       50%      75%      max  \n",
       "danceability        0.6210    0.723    0.981  \n",
       "energy              0.7110    0.864    0.997  \n",
       "key                 6.0000    9.000   11.000  \n",
       "loudness           -6.5340   -4.575    1.634  \n",
       "mode                1.0000    1.000    1.000  \n",
       "speechiness         0.0577    0.112    0.920  \n",
       "acousticness        0.0631    0.343    0.988  \n",
       "instrumentalness    0.0032    0.407    0.977  \n",
       "liveness            0.1200    0.217    0.970  \n",
       "valence             0.3870    0.605    0.978  \n",
       "tempo             125.0180  151.666  208.050  "
      ]
     },
     "execution_count": 92,
     "metadata": {},
     "output_type": "execute_result"
    }
   ],
   "source": [
    "X.describe().T"
   ]
  },
  {
   "cell_type": "markdown",
   "id": "4e79b905",
   "metadata": {},
   "source": [
    "### Preprocessing"
   ]
  },
  {
   "cell_type": "code",
   "execution_count": 93,
   "id": "72ffe16a",
   "metadata": {},
   "outputs": [],
   "source": [
    "from sklearn.preprocessing import StandardScaler\n",
    "\n",
    "scaler = StandardScaler()\n",
    "X_scaled = scaler.fit_transform(X)"
   ]
  },
  {
   "cell_type": "code",
   "execution_count": 94,
   "id": "ba232be8",
   "metadata": {},
   "outputs": [
    {
     "data": {
      "text/html": [
       "<div>\n",
       "<style scoped>\n",
       "    .dataframe tbody tr th:only-of-type {\n",
       "        vertical-align: middle;\n",
       "    }\n",
       "\n",
       "    .dataframe tbody tr th {\n",
       "        vertical-align: top;\n",
       "    }\n",
       "\n",
       "    .dataframe thead th {\n",
       "        text-align: right;\n",
       "    }\n",
       "</style>\n",
       "<table border=\"1\" class=\"dataframe\">\n",
       "  <thead>\n",
       "    <tr style=\"text-align: right;\">\n",
       "      <th></th>\n",
       "      <th>count</th>\n",
       "      <th>mean</th>\n",
       "      <th>std</th>\n",
       "      <th>min</th>\n",
       "      <th>25%</th>\n",
       "      <th>50%</th>\n",
       "      <th>75%</th>\n",
       "      <th>max</th>\n",
       "    </tr>\n",
       "  </thead>\n",
       "  <tbody>\n",
       "    <tr>\n",
       "      <th>0</th>\n",
       "      <td>3204.0</td>\n",
       "      <td>7.501629e-16</td>\n",
       "      <td>1.000156</td>\n",
       "      <td>-3.340043</td>\n",
       "      <td>-0.687769</td>\n",
       "      <td>0.044125</td>\n",
       "      <td>0.729016</td>\n",
       "      <td>2.461388</td>\n",
       "    </tr>\n",
       "    <tr>\n",
       "      <th>1</th>\n",
       "      <td>3204.0</td>\n",
       "      <td>1.754041e-16</td>\n",
       "      <td>1.000156</td>\n",
       "      <td>-2.773214</td>\n",
       "      <td>-0.602753</td>\n",
       "      <td>0.177989</td>\n",
       "      <td>0.823683</td>\n",
       "      <td>1.384973</td>\n",
       "    </tr>\n",
       "    <tr>\n",
       "      <th>2</th>\n",
       "      <td>3204.0</td>\n",
       "      <td>-2.363815e-16</td>\n",
       "      <td>1.000156</td>\n",
       "      <td>-1.467010</td>\n",
       "      <td>-0.920082</td>\n",
       "      <td>0.173774</td>\n",
       "      <td>0.994166</td>\n",
       "      <td>1.541094</td>\n",
       "    </tr>\n",
       "    <tr>\n",
       "      <th>3</th>\n",
       "      <td>3204.0</td>\n",
       "      <td>-6.770143e-16</td>\n",
       "      <td>1.000156</td>\n",
       "      <td>-4.947942</td>\n",
       "      <td>-0.397532</td>\n",
       "      <td>0.201394</td>\n",
       "      <td>0.671041</td>\n",
       "      <td>2.159575</td>\n",
       "    </tr>\n",
       "    <tr>\n",
       "      <th>4</th>\n",
       "      <td>3204.0</td>\n",
       "      <td>-4.779919e-15</td>\n",
       "      <td>1.000156</td>\n",
       "      <td>-1.091567</td>\n",
       "      <td>-1.091567</td>\n",
       "      <td>0.916114</td>\n",
       "      <td>0.916114</td>\n",
       "      <td>0.916114</td>\n",
       "    </tr>\n",
       "    <tr>\n",
       "      <th>5</th>\n",
       "      <td>3204.0</td>\n",
       "      <td>-9.075138e-17</td>\n",
       "      <td>1.000156</td>\n",
       "      <td>-0.762088</td>\n",
       "      <td>-0.591597</td>\n",
       "      <td>-0.432535</td>\n",
       "      <td>0.084652</td>\n",
       "      <td>7.780555</td>\n",
       "    </tr>\n",
       "    <tr>\n",
       "      <th>6</th>\n",
       "      <td>3204.0</td>\n",
       "      <td>1.508711e-16</td>\n",
       "      <td>1.000156</td>\n",
       "      <td>-0.747822</td>\n",
       "      <td>-0.727738</td>\n",
       "      <td>-0.535560</td>\n",
       "      <td>0.406072</td>\n",
       "      <td>2.575962</td>\n",
       "    </tr>\n",
       "    <tr>\n",
       "      <th>7</th>\n",
       "      <td>3204.0</td>\n",
       "      <td>-7.343100e-16</td>\n",
       "      <td>1.000156</td>\n",
       "      <td>-0.648532</td>\n",
       "      <td>-0.648523</td>\n",
       "      <td>-0.639181</td>\n",
       "      <td>0.540776</td>\n",
       "      <td>2.206391</td>\n",
       "    </tr>\n",
       "    <tr>\n",
       "      <th>8</th>\n",
       "      <td>3204.0</td>\n",
       "      <td>-1.033990e-16</td>\n",
       "      <td>1.000156</td>\n",
       "      <td>-1.134775</td>\n",
       "      <td>-0.602096</td>\n",
       "      <td>-0.422849</td>\n",
       "      <td>0.278235</td>\n",
       "      <td>5.720670</td>\n",
       "    </tr>\n",
       "    <tr>\n",
       "      <th>9</th>\n",
       "      <td>3204.0</td>\n",
       "      <td>1.905814e-17</td>\n",
       "      <td>1.000156</td>\n",
       "      <td>-1.530123</td>\n",
       "      <td>-0.856484</td>\n",
       "      <td>-0.099904</td>\n",
       "      <td>0.782098</td>\n",
       "      <td>2.291211</td>\n",
       "    </tr>\n",
       "    <tr>\n",
       "      <th>10</th>\n",
       "      <td>3204.0</td>\n",
       "      <td>2.218887e-16</td>\n",
       "      <td>1.000156</td>\n",
       "      <td>-2.825869</td>\n",
       "      <td>-0.822588</td>\n",
       "      <td>-0.100197</td>\n",
       "      <td>0.734558</td>\n",
       "      <td>2.500801</td>\n",
       "    </tr>\n",
       "  </tbody>\n",
       "</table>\n",
       "</div>"
      ],
      "text/plain": [
       "     count          mean       std       min       25%       50%       75%  \\\n",
       "0   3204.0  7.501629e-16  1.000156 -3.340043 -0.687769  0.044125  0.729016   \n",
       "1   3204.0  1.754041e-16  1.000156 -2.773214 -0.602753  0.177989  0.823683   \n",
       "2   3204.0 -2.363815e-16  1.000156 -1.467010 -0.920082  0.173774  0.994166   \n",
       "3   3204.0 -6.770143e-16  1.000156 -4.947942 -0.397532  0.201394  0.671041   \n",
       "4   3204.0 -4.779919e-15  1.000156 -1.091567 -1.091567  0.916114  0.916114   \n",
       "5   3204.0 -9.075138e-17  1.000156 -0.762088 -0.591597 -0.432535  0.084652   \n",
       "6   3204.0  1.508711e-16  1.000156 -0.747822 -0.727738 -0.535560  0.406072   \n",
       "7   3204.0 -7.343100e-16  1.000156 -0.648532 -0.648523 -0.639181  0.540776   \n",
       "8   3204.0 -1.033990e-16  1.000156 -1.134775 -0.602096 -0.422849  0.278235   \n",
       "9   3204.0  1.905814e-17  1.000156 -1.530123 -0.856484 -0.099904  0.782098   \n",
       "10  3204.0  2.218887e-16  1.000156 -2.825869 -0.822588 -0.100197  0.734558   \n",
       "\n",
       "         max  \n",
       "0   2.461388  \n",
       "1   1.384973  \n",
       "2   1.541094  \n",
       "3   2.159575  \n",
       "4   0.916114  \n",
       "5   7.780555  \n",
       "6   2.575962  \n",
       "7   2.206391  \n",
       "8   5.720670  \n",
       "9   2.291211  \n",
       "10  2.500801  "
      ]
     },
     "execution_count": 94,
     "metadata": {},
     "output_type": "execute_result"
    }
   ],
   "source": [
    "pd.DataFrame(X_scaled).describe().T"
   ]
  },
  {
   "cell_type": "markdown",
   "id": "08e1c87f",
   "metadata": {},
   "source": [
    "### Choosing k"
   ]
  },
  {
   "cell_type": "code",
   "execution_count": 95,
   "id": "1cf036be",
   "metadata": {},
   "outputs": [
    {
     "data": {
      "text/plain": [
       "Text(0.5, 1.0, 'Elbow Method showing the optimal k')"
      ]
     },
     "execution_count": 95,
     "metadata": {},
     "output_type": "execute_result"
    },
    {
     "data": {
      "image/png": "[encoded data removed]",
      "text/plain": [
       "<Figure size 1152x576 with 1 Axes>"
      ]
     },
     "metadata": {
      "needs_background": "light"
     },
     "output_type": "display_data"
    }
   ],
   "source": [
    "import numpy as np\n",
    "from sklearn.cluster import KMeans\n",
    "\n",
    "K = range(2, 20)\n",
    "inertia = []\n",
    "\n",
    "for k in K:\n",
    "    kmeans = KMeans(n_clusters=k,\n",
    "                    random_state=1234)\n",
    "    kmeans.fit(X_scaled)\n",
    "    inertia.append(kmeans.inertia_)\n",
    "\n",
    "import matplotlib.pyplot as plt\n",
    "%matplotlib inline\n",
    "\n",
    "plt.figure(figsize=(16,8))\n",
    "plt.plot(K, inertia, 'bx-')\n",
    "plt.xlabel('k')\n",
    "plt.ylabel('inertia')\n",
    "plt.xticks(np.arange(min(K), max(K)+1, 1.0))\n",
    "plt.title('Elbow Method showing the optimal k')"
   ]
  },
  {
   "cell_type": "code",
   "execution_count": 96,
   "id": "374bc7ee",
   "metadata": {},
   "outputs": [
    {
     "data": {
      "text/plain": [
       "Text(0.5, 1.0, 'Elbow Method showing the optimal k')"
      ]
     },
     "execution_count": 96,
     "metadata": {},
     "output_type": "execute_result"
    },
    {
     "data": {
      "image/png": "[encoded data removed]",
      "text/plain": [
       "<Figure size 1152x576 with 1 Axes>"
      ]
     },
     "metadata": {
      "needs_background": "light"
     },
     "output_type": "display_data"
    }
   ],
   "source": [
    "from sklearn.metrics import silhouette_score\n",
    "K = range(2, 20)\n",
    "silhouette = []\n",
    "\n",
    "for k in K:\n",
    "    kmeans = KMeans(n_clusters=k,\n",
    "                    random_state=1234)\n",
    "    kmeans.fit(X_scaled)\n",
    "    silhouette.append(silhouette_score(X_scaled, kmeans.predict(X_scaled)))\n",
    "\n",
    "\n",
    "plt.figure(figsize=(16,8))\n",
    "plt.plot(K, silhouette, 'bx-')\n",
    "plt.xlabel('k')\n",
    "plt.ylabel('silhouette score')\n",
    "plt.xticks(np.arange(min(K), max(K)+1, 1.0))\n",
    "plt.title('Elbow Method showing the optimal k')"
   ]
  },
  {
   "cell_type": "code",
   "execution_count": 97,
   "id": "7f5df101",
   "metadata": {},
   "outputs": [
    {
     "data": {
      "text/plain": [
       "0    394\n",
       "1    705\n",
       "2    281\n",
       "3    594\n",
       "4    702\n",
       "5    528\n",
       "dtype: int64"
      ]
     },
     "execution_count": 97,
     "metadata": {},
     "output_type": "execute_result"
    }
   ],
   "source": [
    "# I choose 6 clusters\n",
    "\n",
    "kmeans = KMeans(n_clusters=6, random_state=1234)\n",
    "kmeans.fit(X_scaled)\n",
    "clusters = kmeans.predict(X_scaled)\n",
    "pd.Series(clusters).value_counts().sort_index()"
   ]
  },
  {
   "cell_type": "code",
   "execution_count": 98,
   "id": "2a97fd16",
   "metadata": {},
   "outputs": [],
   "source": [
    "# db_songs = pd.concat([pd.DataFrame(X, \n",
    "#            columns=['danceability', 'energy', 'key', 'loudness', 'mode', 'speechiness', 'acousticness', \n",
    "#            'instrumentalness', 'liveness', 'valence', 'tempo', 'duration_ms', 'time_signature']), \n",
    "#            pd.DataFrame(clusters, columns=[\"cluster\"])], axis=1)\n",
    "audio_clustered = pd.concat([pd.DataFrame(X, columns=['danceability', 'energy', 'key', 'loudness', 'mode', 'speechiness', 'acousticness', 'instrumentalness', 'liveness', 'valence', 'tempo']), pd.DataFrame(clusters, columns=[\"cluster\"])], axis=1)\n",
    "db_songs = pd.concat([db_songs, pd.DataFrame(clusters, columns=[\"cluster\"])], axis=1)"
   ]
  },
  {
   "cell_type": "code",
   "execution_count": 99,
   "id": "f56638ad",
   "metadata": {},
   "outputs": [],
   "source": [
    "# saving\n",
    "with open(\"audio_clustered.txt\", \"wb\") as f:   #Pickling\n",
    "    pickle.dump(audio_clustered, f)\n",
    "\n",
    "with open(\"db_songs_clustered.txt\", \"wb\") as f:   #Pickling\n",
    "    pickle.dump(db_songs, f)"
   ]
  },
  {
   "cell_type": "code",
   "execution_count": 100,
   "id": "07dcea65",
   "metadata": {},
   "outputs": [
    {
     "data": {
      "text/html": [
       "<div>\n",
       "<style scoped>\n",
       "    .dataframe tbody tr th:only-of-type {\n",
       "        vertical-align: middle;\n",
       "    }\n",
       "\n",
       "    .dataframe tbody tr th {\n",
       "        vertical-align: top;\n",
       "    }\n",
       "\n",
       "    .dataframe thead th {\n",
       "        text-align: right;\n",
       "    }\n",
       "</style>\n",
       "<table border=\"1\" class=\"dataframe\">\n",
       "  <thead>\n",
       "    <tr style=\"text-align: right;\">\n",
       "      <th></th>\n",
       "      <th>danceability</th>\n",
       "      <th>energy</th>\n",
       "      <th>key</th>\n",
       "      <th>loudness</th>\n",
       "      <th>mode</th>\n",
       "      <th>speechiness</th>\n",
       "      <th>acousticness</th>\n",
       "      <th>instrumentalness</th>\n",
       "      <th>liveness</th>\n",
       "      <th>valence</th>\n",
       "      <th>tempo</th>\n",
       "      <th>cluster</th>\n",
       "    </tr>\n",
       "  </thead>\n",
       "  <tbody>\n",
       "    <tr>\n",
       "      <th>0</th>\n",
       "      <td>0.534</td>\n",
       "      <td>0.725</td>\n",
       "      <td>1.0</td>\n",
       "      <td>-3.906</td>\n",
       "      <td>1.0</td>\n",
       "      <td>0.0460</td>\n",
       "      <td>0.091000</td>\n",
       "      <td>0.000000</td>\n",
       "      <td>0.0264</td>\n",
       "      <td>0.550</td>\n",
       "      <td>88.098</td>\n",
       "      <td>1</td>\n",
       "    </tr>\n",
       "    <tr>\n",
       "      <th>1</th>\n",
       "      <td>0.788</td>\n",
       "      <td>0.859</td>\n",
       "      <td>2.0</td>\n",
       "      <td>-2.724</td>\n",
       "      <td>1.0</td>\n",
       "      <td>0.0856</td>\n",
       "      <td>0.281000</td>\n",
       "      <td>0.000000</td>\n",
       "      <td>0.0424</td>\n",
       "      <td>0.822</td>\n",
       "      <td>141.020</td>\n",
       "      <td>1</td>\n",
       "    </tr>\n",
       "    <tr>\n",
       "      <th>2</th>\n",
       "      <td>0.796</td>\n",
       "      <td>0.798</td>\n",
       "      <td>1.0</td>\n",
       "      <td>-6.312</td>\n",
       "      <td>1.0</td>\n",
       "      <td>0.0317</td>\n",
       "      <td>0.034000</td>\n",
       "      <td>0.000042</td>\n",
       "      <td>0.0952</td>\n",
       "      <td>0.942</td>\n",
       "      <td>116.032</td>\n",
       "      <td>1</td>\n",
       "    </tr>\n",
       "    <tr>\n",
       "      <th>3</th>\n",
       "      <td>0.796</td>\n",
       "      <td>0.798</td>\n",
       "      <td>1.0</td>\n",
       "      <td>-6.312</td>\n",
       "      <td>1.0</td>\n",
       "      <td>0.0317</td>\n",
       "      <td>0.034000</td>\n",
       "      <td>0.000042</td>\n",
       "      <td>0.0952</td>\n",
       "      <td>0.942</td>\n",
       "      <td>116.032</td>\n",
       "      <td>1</td>\n",
       "    </tr>\n",
       "    <tr>\n",
       "      <th>4</th>\n",
       "      <td>0.796</td>\n",
       "      <td>0.798</td>\n",
       "      <td>1.0</td>\n",
       "      <td>-6.312</td>\n",
       "      <td>1.0</td>\n",
       "      <td>0.0317</td>\n",
       "      <td>0.034000</td>\n",
       "      <td>0.000042</td>\n",
       "      <td>0.0952</td>\n",
       "      <td>0.942</td>\n",
       "      <td>116.032</td>\n",
       "      <td>1</td>\n",
       "    </tr>\n",
       "    <tr>\n",
       "      <th>...</th>\n",
       "      <td>...</td>\n",
       "      <td>...</td>\n",
       "      <td>...</td>\n",
       "      <td>...</td>\n",
       "      <td>...</td>\n",
       "      <td>...</td>\n",
       "      <td>...</td>\n",
       "      <td>...</td>\n",
       "      <td>...</td>\n",
       "      <td>...</td>\n",
       "      <td>...</td>\n",
       "      <td>...</td>\n",
       "    </tr>\n",
       "    <tr>\n",
       "      <th>3199</th>\n",
       "      <td>0.509</td>\n",
       "      <td>0.987</td>\n",
       "      <td>10.0</td>\n",
       "      <td>-3.198</td>\n",
       "      <td>0.0</td>\n",
       "      <td>0.0886</td>\n",
       "      <td>0.000081</td>\n",
       "      <td>0.000928</td>\n",
       "      <td>0.1190</td>\n",
       "      <td>0.647</td>\n",
       "      <td>138.039</td>\n",
       "      <td>4</td>\n",
       "    </tr>\n",
       "    <tr>\n",
       "      <th>3200</th>\n",
       "      <td>0.576</td>\n",
       "      <td>0.963</td>\n",
       "      <td>1.0</td>\n",
       "      <td>-3.950</td>\n",
       "      <td>1.0</td>\n",
       "      <td>0.1020</td>\n",
       "      <td>0.192000</td>\n",
       "      <td>0.000000</td>\n",
       "      <td>0.0870</td>\n",
       "      <td>0.961</td>\n",
       "      <td>137.331</td>\n",
       "      <td>1</td>\n",
       "    </tr>\n",
       "    <tr>\n",
       "      <th>3201</th>\n",
       "      <td>0.768</td>\n",
       "      <td>0.852</td>\n",
       "      <td>4.0</td>\n",
       "      <td>-6.215</td>\n",
       "      <td>1.0</td>\n",
       "      <td>0.0380</td>\n",
       "      <td>0.213000</td>\n",
       "      <td>0.000074</td>\n",
       "      <td>0.0723</td>\n",
       "      <td>0.867</td>\n",
       "      <td>128.374</td>\n",
       "      <td>1</td>\n",
       "    </tr>\n",
       "    <tr>\n",
       "      <th>3202</th>\n",
       "      <td>0.451</td>\n",
       "      <td>0.852</td>\n",
       "      <td>2.0</td>\n",
       "      <td>-3.409</td>\n",
       "      <td>0.0</td>\n",
       "      <td>0.0418</td>\n",
       "      <td>0.000652</td>\n",
       "      <td>0.000003</td>\n",
       "      <td>0.2510</td>\n",
       "      <td>0.601</td>\n",
       "      <td>141.935</td>\n",
       "      <td>3</td>\n",
       "    </tr>\n",
       "    <tr>\n",
       "      <th>3203</th>\n",
       "      <td>0.568</td>\n",
       "      <td>0.945</td>\n",
       "      <td>6.0</td>\n",
       "      <td>-4.438</td>\n",
       "      <td>0.0</td>\n",
       "      <td>0.0359</td>\n",
       "      <td>0.000024</td>\n",
       "      <td>0.074200</td>\n",
       "      <td>0.3520</td>\n",
       "      <td>0.820</td>\n",
       "      <td>116.039</td>\n",
       "      <td>4</td>\n",
       "    </tr>\n",
       "  </tbody>\n",
       "</table>\n",
       "<p>3204 rows × 12 columns</p>\n",
       "</div>"
      ],
      "text/plain": [
       "      danceability  energy   key  loudness  mode  speechiness  acousticness  \\\n",
       "0            0.534   0.725   1.0    -3.906   1.0       0.0460      0.091000   \n",
       "1            0.788   0.859   2.0    -2.724   1.0       0.0856      0.281000   \n",
       "2            0.796   0.798   1.0    -6.312   1.0       0.0317      0.034000   \n",
       "3            0.796   0.798   1.0    -6.312   1.0       0.0317      0.034000   \n",
       "4            0.796   0.798   1.0    -6.312   1.0       0.0317      0.034000   \n",
       "...            ...     ...   ...       ...   ...          ...           ...   \n",
       "3199         0.509   0.987  10.0    -3.198   0.0       0.0886      0.000081   \n",
       "3200         0.576   0.963   1.0    -3.950   1.0       0.1020      0.192000   \n",
       "3201         0.768   0.852   4.0    -6.215   1.0       0.0380      0.213000   \n",
       "3202         0.451   0.852   2.0    -3.409   0.0       0.0418      0.000652   \n",
       "3203         0.568   0.945   6.0    -4.438   0.0       0.0359      0.000024   \n",
       "\n",
       "      instrumentalness  liveness  valence    tempo  cluster  \n",
       "0             0.000000    0.0264    0.550   88.098        1  \n",
       "1             0.000000    0.0424    0.822  141.020        1  \n",
       "2             0.000042    0.0952    0.942  116.032        1  \n",
       "3             0.000042    0.0952    0.942  116.032        1  \n",
       "4             0.000042    0.0952    0.942  116.032        1  \n",
       "...                ...       ...      ...      ...      ...  \n",
       "3199          0.000928    0.1190    0.647  138.039        4  \n",
       "3200          0.000000    0.0870    0.961  137.331        1  \n",
       "3201          0.000074    0.0723    0.867  128.374        1  \n",
       "3202          0.000003    0.2510    0.601  141.935        3  \n",
       "3203          0.074200    0.3520    0.820  116.039        4  \n",
       "\n",
       "[3204 rows x 12 columns]"
      ]
     },
     "execution_count": 100,
     "metadata": {},
     "output_type": "execute_result"
    }
   ],
   "source": [
    "audio_clustered"
   ]
  },
  {
   "cell_type": "code",
   "execution_count": 101,
   "id": "727d2cec",
   "metadata": {},
   "outputs": [],
   "source": [
    "# db_songs = pd.concat([pd.DataFrame(X_scaled, \n",
    "#                     columns=['danceability', 'energy', 'key', 'loudness', 'mode', 'speechiness', 'acousticness', \n",
    "#                     'instrumentalness', 'liveness', 'valence', 'tempo']), \n",
    "#                     pd.DataFrame(clusters, columns=[\"cluster\"])], axis=1)\n",
    "audio_scaled_clustered = pd.concat([pd.DataFrame(X_scaled, columns=['danceability', 'energy', 'key', 'loudness', 'mode', 'speechiness', 'acousticness', 'instrumentalness', 'liveness', 'valence', 'tempo']), pd.DataFrame(clusters, columns=[\"cluster\"])], axis=1)"
   ]
  },
  {
   "cell_type": "code",
   "execution_count": 102,
   "id": "a86cdd83",
   "metadata": {},
   "outputs": [],
   "source": [
    "from sklearn.model_selection import train_test_split\n",
    "\n",
    "X = audio_scaled_clustered.drop(['cluster'], axis=1)\n",
    "y = audio_scaled_clustered['cluster']\n",
    "\n",
    "X_train, X_test, y_train, y_test = train_test_split(\n",
    "    X, y,\n",
    "    test_size=0.2,\n",
    "    random_state=17\n",
    ")"
   ]
  },
  {
   "cell_type": "markdown",
   "id": "568daf84",
   "metadata": {},
   "source": [
    "### Applying PCA"
   ]
  },
  {
   "cell_type": "code",
   "execution_count": 103,
   "id": "62729ab8",
   "metadata": {},
   "outputs": [],
   "source": [
    "from sklearn.decomposition import PCA"
   ]
  },
  {
   "cell_type": "code",
   "execution_count": 104,
   "id": "fa50d41f",
   "metadata": {},
   "outputs": [],
   "source": [
    "import matplotlib.pyplot as plt\n",
    "%matplotlib inline"
   ]
  },
  {
   "cell_type": "code",
   "execution_count": 105,
   "id": "d1acfd67",
   "metadata": {},
   "outputs": [
    {
     "data": {
      "text/plain": [
       "array([0.27, 0.16, 0.12, 0.09, 0.08, 0.08, 0.07, 0.06, 0.04, 0.02, 0.01])"
      ]
     },
     "execution_count": 105,
     "metadata": {},
     "output_type": "execute_result"
    }
   ],
   "source": [
    "pca = PCA()\n",
    "pca.fit(X_train)\n",
    "pca.explained_variance_ratio_.round(2)"
   ]
  },
  {
   "cell_type": "code",
   "execution_count": 106,
   "id": "255dbb2e",
   "metadata": {},
   "outputs": [
    {
     "data": {
      "image/png": "[encoded data removed]",
      "text/plain": [
       "<Figure size 432x288 with 1 Axes>"
      ]
     },
     "metadata": {
      "needs_background": "light"
     },
     "output_type": "display_data"
    }
   ],
   "source": [
    "import numpy as np\n",
    "exp_var_pca = pca.explained_variance_ratio_\n",
    "\n",
    "# Cumulative sum of eigenvalues; This will be used to create step plot\n",
    "# for visualizing the variance explained by each principal component.\n",
    "\n",
    "cum_sum_eigenvalues = np.cumsum(exp_var_pca)\n",
    "\n",
    "# Create the visualization plot\n",
    "plt.bar(range(0,len(exp_var_pca)), exp_var_pca, \n",
    "        alpha=0.5, align='center', label='Individual explained variance')\n",
    "plt.step(range(0,len(cum_sum_eigenvalues)), cum_sum_eigenvalues, \n",
    "         where='mid',label='Cumulative explained variance')\n",
    "plt.ylabel('Explained variance ratio')\n",
    "plt.xlabel('Principal component index')\n",
    "plt.legend(loc='best')\n",
    "plt.tight_layout()\n",
    "plt.show()"
   ]
  },
  {
   "cell_type": "code",
   "execution_count": 107,
   "id": "79c1e0bc",
   "metadata": {},
   "outputs": [
    {
     "data": {
      "text/plain": [
       "PCA(n_components=0.9)"
      ]
     },
     "execution_count": 107,
     "metadata": {},
     "output_type": "execute_result"
    }
   ],
   "source": [
    "pca = PCA(0.9)\n",
    "pca.fit(X_train)"
   ]
  },
  {
   "cell_type": "code",
   "execution_count": 108,
   "id": "219465d2",
   "metadata": {},
   "outputs": [
    {
     "data": {
      "text/plain": [
       "array([0.27380884, 0.1581226 , 0.11682615, 0.09178162, 0.07919578,\n",
       "       0.07782072, 0.06782621, 0.05559729])"
      ]
     },
     "execution_count": 108,
     "metadata": {},
     "output_type": "execute_result"
    }
   ],
   "source": [
    "pca.explained_variance_ratio_"
   ]
  },
  {
   "cell_type": "code",
   "execution_count": 109,
   "id": "bf23f933",
   "metadata": {},
   "outputs": [],
   "source": [
    "X_train_pca = pca.transform(X_train)\n",
    "X_test_pca = pca.transform(X_test)"
   ]
  },
  {
   "cell_type": "markdown",
   "id": "1613d397",
   "metadata": {},
   "source": [
    "### Modelling with KNN: k-nearest neighbors"
   ]
  },
  {
   "cell_type": "code",
   "execution_count": 110,
   "id": "b66e2735",
   "metadata": {},
   "outputs": [],
   "source": [
    "from sklearn.neighbors import KNeighborsClassifier\n",
    "knn = KNeighborsClassifier()\n",
    "knn.fit(X_train_pca, y_train)\n",
    "y_pred_pca = knn.predict(X_test_pca)"
   ]
  },
  {
   "cell_type": "code",
   "execution_count": 111,
   "id": "b744dc37",
   "metadata": {},
   "outputs": [
    {
     "data": {
      "text/plain": [
       "array([[ 84,   1,   3,   0,   5,   0],\n",
       "       [  0, 123,   0,   1,   0,   2],\n",
       "       [  0,   5,  54,   5,   5,   0],\n",
       "       [  0,   5,   0, 107,   4,   1],\n",
       "       [  6,   0,   0,   0, 122,   0],\n",
       "       [  1,   1,   0,   0,   7,  99]], dtype=int64)"
      ]
     },
     "execution_count": 111,
     "metadata": {},
     "output_type": "execute_result"
    }
   ],
   "source": [
    "from sklearn.metrics import confusion_matrix\n",
    "# with PCA\n",
    "confusion_matrix(y_test, y_pred_pca)"
   ]
  },
  {
   "cell_type": "code",
   "execution_count": 112,
   "id": "c4061ac8",
   "metadata": {},
   "outputs": [],
   "source": [
    "# saving the model\n",
    "pickle.dump(knn, open('model.p', 'wb'))\n",
    "pickle.dump(pca, open('pca_model.p', 'wb'))"
   ]
  },
  {
   "cell_type": "code",
   "execution_count": 113,
   "id": "50225d99",
   "metadata": {},
   "outputs": [
    {
     "data": {
      "text/html": [
       "<div>\n",
       "<style scoped>\n",
       "    .dataframe tbody tr th:only-of-type {\n",
       "        vertical-align: middle;\n",
       "    }\n",
       "\n",
       "    .dataframe tbody tr th {\n",
       "        vertical-align: top;\n",
       "    }\n",
       "\n",
       "    .dataframe thead th {\n",
       "        text-align: right;\n",
       "    }\n",
       "</style>\n",
       "<table border=\"1\" class=\"dataframe\">\n",
       "  <thead>\n",
       "    <tr style=\"text-align: right;\">\n",
       "      <th></th>\n",
       "      <th>danceability</th>\n",
       "      <th>energy</th>\n",
       "      <th>key</th>\n",
       "      <th>loudness</th>\n",
       "      <th>mode</th>\n",
       "      <th>speechiness</th>\n",
       "      <th>acousticness</th>\n",
       "      <th>instrumentalness</th>\n",
       "      <th>liveness</th>\n",
       "      <th>valence</th>\n",
       "      <th>tempo</th>\n",
       "    </tr>\n",
       "  </thead>\n",
       "  <tbody>\n",
       "    <tr>\n",
       "      <th>2056</th>\n",
       "      <td>0.856594</td>\n",
       "      <td>-0.113206</td>\n",
       "      <td>-1.193546</td>\n",
       "      <td>-0.124170</td>\n",
       "      <td>0.916114</td>\n",
       "      <td>2.522958</td>\n",
       "      <td>-0.408058</td>\n",
       "      <td>-0.648532</td>\n",
       "      <td>1.824956</td>\n",
       "      <td>0.741639</td>\n",
       "      <td>-1.448592</td>\n",
       "    </tr>\n",
       "    <tr>\n",
       "      <th>577</th>\n",
       "      <td>-0.211031</td>\n",
       "      <td>1.152861</td>\n",
       "      <td>-0.373154</td>\n",
       "      <td>1.191273</td>\n",
       "      <td>0.916114</td>\n",
       "      <td>-0.383960</td>\n",
       "      <td>-0.747062</td>\n",
       "      <td>0.166743</td>\n",
       "      <td>0.220413</td>\n",
       "      <td>-0.427620</td>\n",
       "      <td>1.462494</td>\n",
       "    </tr>\n",
       "    <tr>\n",
       "      <th>188</th>\n",
       "      <td>0.487290</td>\n",
       "      <td>0.519827</td>\n",
       "      <td>-0.099690</td>\n",
       "      <td>1.108803</td>\n",
       "      <td>0.916114</td>\n",
       "      <td>-0.551593</td>\n",
       "      <td>-0.105282</td>\n",
       "      <td>-0.648532</td>\n",
       "      <td>-0.083149</td>\n",
       "      <td>1.049126</td>\n",
       "      <td>-0.883422</td>\n",
       "    </tr>\n",
       "    <tr>\n",
       "      <th>327</th>\n",
       "      <td>1.340047</td>\n",
       "      <td>-0.197611</td>\n",
       "      <td>0.720702</td>\n",
       "      <td>-0.047694</td>\n",
       "      <td>0.916114</td>\n",
       "      <td>-0.513495</td>\n",
       "      <td>-0.747395</td>\n",
       "      <td>1.455403</td>\n",
       "      <td>-0.814589</td>\n",
       "      <td>1.271649</td>\n",
       "      <td>-0.258139</td>\n",
       "    </tr>\n",
       "    <tr>\n",
       "      <th>1858</th>\n",
       "      <td>-0.909351</td>\n",
       "      <td>0.802582</td>\n",
       "      <td>-1.193546</td>\n",
       "      <td>0.502026</td>\n",
       "      <td>0.916114</td>\n",
       "      <td>2.522958</td>\n",
       "      <td>-0.651960</td>\n",
       "      <td>-0.648532</td>\n",
       "      <td>-0.191564</td>\n",
       "      <td>-0.609685</td>\n",
       "      <td>-0.312112</td>\n",
       "    </tr>\n",
       "    <tr>\n",
       "      <th>...</th>\n",
       "      <td>...</td>\n",
       "      <td>...</td>\n",
       "      <td>...</td>\n",
       "      <td>...</td>\n",
       "      <td>...</td>\n",
       "      <td>...</td>\n",
       "      <td>...</td>\n",
       "      <td>...</td>\n",
       "      <td>...</td>\n",
       "      <td>...</td>\n",
       "      <td>...</td>\n",
       "    </tr>\n",
       "    <tr>\n",
       "      <th>1337</th>\n",
       "      <td>-0.452757</td>\n",
       "      <td>1.152861</td>\n",
       "      <td>0.720702</td>\n",
       "      <td>1.143805</td>\n",
       "      <td>0.916114</td>\n",
       "      <td>-0.609694</td>\n",
       "      <td>-0.729538</td>\n",
       "      <td>-0.612882</td>\n",
       "      <td>-0.839163</td>\n",
       "      <td>-0.949539</td>\n",
       "      <td>-1.275708</td>\n",
       "    </tr>\n",
       "    <tr>\n",
       "      <th>406</th>\n",
       "      <td>0.211990</td>\n",
       "      <td>0.536708</td>\n",
       "      <td>0.447238</td>\n",
       "      <td>-0.024679</td>\n",
       "      <td>-1.091567</td>\n",
       "      <td>-0.661127</td>\n",
       "      <td>-0.740303</td>\n",
       "      <td>-0.629947</td>\n",
       "      <td>-0.133743</td>\n",
       "      <td>-0.217235</td>\n",
       "      <td>-0.099414</td>\n",
       "    </tr>\n",
       "    <tr>\n",
       "      <th>1414</th>\n",
       "      <td>-0.190887</td>\n",
       "      <td>0.802582</td>\n",
       "      <td>-1.467010</td>\n",
       "      <td>0.463907</td>\n",
       "      <td>0.916114</td>\n",
       "      <td>-0.560166</td>\n",
       "      <td>-0.747227</td>\n",
       "      <td>-0.227745</td>\n",
       "      <td>-0.668590</td>\n",
       "      <td>-0.900988</td>\n",
       "      <td>1.434897</td>\n",
       "    </tr>\n",
       "    <tr>\n",
       "      <th>2191</th>\n",
       "      <td>-1.359231</td>\n",
       "      <td>0.739279</td>\n",
       "      <td>-0.920082</td>\n",
       "      <td>0.422193</td>\n",
       "      <td>0.916114</td>\n",
       "      <td>-0.629695</td>\n",
       "      <td>-0.740640</td>\n",
       "      <td>-0.648532</td>\n",
       "      <td>-0.321662</td>\n",
       "      <td>0.191399</td>\n",
       "      <td>1.448335</td>\n",
       "    </tr>\n",
       "    <tr>\n",
       "      <th>2671</th>\n",
       "      <td>-0.741486</td>\n",
       "      <td>-0.379081</td>\n",
       "      <td>-0.099690</td>\n",
       "      <td>-0.010535</td>\n",
       "      <td>-1.091567</td>\n",
       "      <td>-0.579215</td>\n",
       "      <td>0.311875</td>\n",
       "      <td>-0.490152</td>\n",
       "      <td>-0.495126</td>\n",
       "      <td>1.024851</td>\n",
       "      <td>-1.385941</td>\n",
       "    </tr>\n",
       "  </tbody>\n",
       "</table>\n",
       "<p>2563 rows × 11 columns</p>\n",
       "</div>"
      ],
      "text/plain": [
       "      danceability    energy       key  loudness      mode  speechiness  \\\n",
       "2056      0.856594 -0.113206 -1.193546 -0.124170  0.916114     2.522958   \n",
       "577      -0.211031  1.152861 -0.373154  1.191273  0.916114    -0.383960   \n",
       "188       0.487290  0.519827 -0.099690  1.108803  0.916114    -0.551593   \n",
       "327       1.340047 -0.197611  0.720702 -0.047694  0.916114    -0.513495   \n",
       "1858     -0.909351  0.802582 -1.193546  0.502026  0.916114     2.522958   \n",
       "...            ...       ...       ...       ...       ...          ...   \n",
       "1337     -0.452757  1.152861  0.720702  1.143805  0.916114    -0.609694   \n",
       "406       0.211990  0.536708  0.447238 -0.024679 -1.091567    -0.661127   \n",
       "1414     -0.190887  0.802582 -1.467010  0.463907  0.916114    -0.560166   \n",
       "2191     -1.359231  0.739279 -0.920082  0.422193  0.916114    -0.629695   \n",
       "2671     -0.741486 -0.379081 -0.099690 -0.010535 -1.091567    -0.579215   \n",
       "\n",
       "      acousticness  instrumentalness  liveness   valence     tempo  \n",
       "2056     -0.408058         -0.648532  1.824956  0.741639 -1.448592  \n",
       "577      -0.747062          0.166743  0.220413 -0.427620  1.462494  \n",
       "188      -0.105282         -0.648532 -0.083149  1.049126 -0.883422  \n",
       "327      -0.747395          1.455403 -0.814589  1.271649 -0.258139  \n",
       "1858     -0.651960         -0.648532 -0.191564 -0.609685 -0.312112  \n",
       "...            ...               ...       ...       ...       ...  \n",
       "1337     -0.729538         -0.612882 -0.839163 -0.949539 -1.275708  \n",
       "406      -0.740303         -0.629947 -0.133743 -0.217235 -0.099414  \n",
       "1414     -0.747227         -0.227745 -0.668590 -0.900988  1.434897  \n",
       "2191     -0.740640         -0.648532 -0.321662  0.191399  1.448335  \n",
       "2671      0.311875         -0.490152 -0.495126  1.024851 -1.385941  \n",
       "\n",
       "[2563 rows x 11 columns]"
      ]
     },
     "execution_count": 113,
     "metadata": {},
     "output_type": "execute_result"
    }
   ],
   "source": [
    "(X_train)"
   ]
  },
  {
   "cell_type": "code",
   "execution_count": null,
   "id": "cde5a2e7",
   "metadata": {},
   "outputs": [],
   "source": []
  }
 ],
 "metadata": {
  "kernelspec": {
   "display_name": "Python 3",
   "language": "python",
   "name": "python3"
  },
  "language_info": {
   "codemirror_mode": {
    "name": "ipython",
    "version": 3
   },
   "file_extension": ".py",
   "mimetype": "text/x-python",
   "name": "python",
   "nbconvert_exporter": "python",
   "pygments_lexer": "ipython3",
   "version": "3.8.8"
  }
 },
 "nbformat": 4,
 "nbformat_minor": 5
}
