{
 "cells": [
  {
   "cell_type": "markdown",
   "id": "5ab5c7b3",
   "metadata": {},
   "source": [
    "# Lab | Unsupervised learning intro"
   ]
  },
  {
   "cell_type": "code",
   "execution_count": 1,
   "id": "95b21196",
   "metadata": {},
   "outputs": [],
   "source": [
    "from bs4 import BeautifulSoup\n",
    "import requests\n",
    "import pandas as pd"
   ]
  },
  {
   "cell_type": "code",
   "execution_count": 2,
   "id": "6f3136a4",
   "metadata": {},
   "outputs": [],
   "source": [
    "import pickle\n",
    "\n",
    "with open(\"db_songs.txt\", \"rb\") as f:   # Unpickling\n",
    "    db_songs = pickle.load(f)\n",
    "    \n",
    "with open(\"top_songs.txt\", \"rb\") as f:   # Unpickling\n",
    "    top_songs = pickle.load(f)\n",
    "     "
   ]
  },
  {
   "cell_type": "code",
   "execution_count": 3,
   "id": "b4e796d7",
   "metadata": {},
   "outputs": [
    {
     "data": {
      "text/plain": [
       "28633"
      ]
     },
     "execution_count": 3,
     "metadata": {},
     "output_type": "execute_result"
    }
   ],
   "source": [
    "len(db_songs)"
   ]
  },
  {
   "cell_type": "code",
   "execution_count": 4,
   "id": "ad4b76ec",
   "metadata": {},
   "outputs": [
    {
     "data": {
      "text/plain": [
       "894"
      ]
     },
     "execution_count": 4,
     "metadata": {},
     "output_type": "execute_result"
    }
   ],
   "source": [
    "len(top_songs)"
   ]
  },
  {
   "cell_type": "markdown",
   "id": "c4d8085e",
   "metadata": {},
   "source": [
    "### Preprocessing"
   ]
  },
  {
   "cell_type": "code",
   "execution_count": 5,
   "id": "8e7a116a",
   "metadata": {},
   "outputs": [
    {
     "data": {
      "text/plain": [
       "title                object\n",
       "artist               object\n",
       "uri                  object\n",
       "danceability        float64\n",
       "energy              float64\n",
       "key                 float64\n",
       "loudness            float64\n",
       "mode                float64\n",
       "speechiness         float64\n",
       "acousticness        float64\n",
       "instrumentalness    float64\n",
       "liveness            float64\n",
       "valence             float64\n",
       "tempo               float64\n",
       "type                 object\n",
       "id                   object\n",
       "track_href           object\n",
       "analysis_url         object\n",
       "duration_ms         float64\n",
       "time_signature      float64\n",
       "dtype: object"
      ]
     },
     "execution_count": 5,
     "metadata": {},
     "output_type": "execute_result"
    }
   ],
   "source": [
    "db_songs.dtypes"
   ]
  },
  {
   "cell_type": "code",
   "execution_count": 6,
   "id": "1fbbfedc",
   "metadata": {},
   "outputs": [],
   "source": [
    "X = db_songs.select_dtypes(include='number')\n",
    "X = X.drop(['duration_ms', 'time_signature'], axis=1)"
   ]
  },
  {
   "cell_type": "code",
   "execution_count": 7,
   "id": "bbb94f39",
   "metadata": {},
   "outputs": [
    {
     "data": {
      "text/plain": [
       "danceability        float64\n",
       "energy              float64\n",
       "key                 float64\n",
       "loudness            float64\n",
       "mode                float64\n",
       "speechiness         float64\n",
       "acousticness        float64\n",
       "instrumentalness    float64\n",
       "liveness            float64\n",
       "valence             float64\n",
       "tempo               float64\n",
       "dtype: object"
      ]
     },
     "execution_count": 7,
     "metadata": {},
     "output_type": "execute_result"
    }
   ],
   "source": [
    "X.dtypes"
   ]
  },
  {
   "cell_type": "code",
   "execution_count": 8,
   "id": "02323773",
   "metadata": {},
   "outputs": [
    {
     "data": {
      "text/html": [
       "<div>\n",
       "<style scoped>\n",
       "    .dataframe tbody tr th:only-of-type {\n",
       "        vertical-align: middle;\n",
       "    }\n",
       "\n",
       "    .dataframe tbody tr th {\n",
       "        vertical-align: top;\n",
       "    }\n",
       "\n",
       "    .dataframe thead th {\n",
       "        text-align: right;\n",
       "    }\n",
       "</style>\n",
       "<table border=\"1\" class=\"dataframe\">\n",
       "  <thead>\n",
       "    <tr style=\"text-align: right;\">\n",
       "      <th></th>\n",
       "      <th>count</th>\n",
       "      <th>mean</th>\n",
       "      <th>std</th>\n",
       "      <th>min</th>\n",
       "      <th>25%</th>\n",
       "      <th>50%</th>\n",
       "      <th>75%</th>\n",
       "      <th>max</th>\n",
       "    </tr>\n",
       "  </thead>\n",
       "  <tbody>\n",
       "    <tr>\n",
       "      <th>danceability</th>\n",
       "      <td>28633.0</td>\n",
       "      <td>0.636368</td>\n",
       "      <td>0.162605</td>\n",
       "      <td>0.058100</td>\n",
       "      <td>0.5470</td>\n",
       "      <td>0.663000</td>\n",
       "      <td>0.757</td>\n",
       "      <td>0.985</td>\n",
       "    </tr>\n",
       "    <tr>\n",
       "      <th>energy</th>\n",
       "      <td>28633.0</td>\n",
       "      <td>0.674229</td>\n",
       "      <td>0.217363</td>\n",
       "      <td>0.001500</td>\n",
       "      <td>0.5550</td>\n",
       "      <td>0.714000</td>\n",
       "      <td>0.837</td>\n",
       "      <td>1.000</td>\n",
       "    </tr>\n",
       "    <tr>\n",
       "      <th>key</th>\n",
       "      <td>28633.0</td>\n",
       "      <td>5.401600</td>\n",
       "      <td>3.643186</td>\n",
       "      <td>0.000000</td>\n",
       "      <td>2.0000</td>\n",
       "      <td>6.000000</td>\n",
       "      <td>9.000</td>\n",
       "      <td>11.000</td>\n",
       "    </tr>\n",
       "    <tr>\n",
       "      <th>loudness</th>\n",
       "      <td>28633.0</td>\n",
       "      <td>-7.676900</td>\n",
       "      <td>4.535807</td>\n",
       "      <td>-45.980000</td>\n",
       "      <td>-8.7920</td>\n",
       "      <td>-6.668000</td>\n",
       "      <td>-5.068</td>\n",
       "      <td>0.920</td>\n",
       "    </tr>\n",
       "    <tr>\n",
       "      <th>mode</th>\n",
       "      <td>28633.0</td>\n",
       "      <td>0.537212</td>\n",
       "      <td>0.498622</td>\n",
       "      <td>0.000000</td>\n",
       "      <td>0.0000</td>\n",
       "      <td>1.000000</td>\n",
       "      <td>1.000</td>\n",
       "      <td>1.000</td>\n",
       "    </tr>\n",
       "    <tr>\n",
       "      <th>speechiness</th>\n",
       "      <td>28633.0</td>\n",
       "      <td>0.096090</td>\n",
       "      <td>0.099357</td>\n",
       "      <td>0.022200</td>\n",
       "      <td>0.0401</td>\n",
       "      <td>0.055800</td>\n",
       "      <td>0.102</td>\n",
       "      <td>0.964</td>\n",
       "    </tr>\n",
       "    <tr>\n",
       "      <th>acousticness</th>\n",
       "      <td>28633.0</td>\n",
       "      <td>0.206759</td>\n",
       "      <td>0.276581</td>\n",
       "      <td>0.000002</td>\n",
       "      <td>0.0123</td>\n",
       "      <td>0.071000</td>\n",
       "      <td>0.284</td>\n",
       "      <td>0.996</td>\n",
       "    </tr>\n",
       "    <tr>\n",
       "      <th>instrumentalness</th>\n",
       "      <td>28633.0</td>\n",
       "      <td>0.192998</td>\n",
       "      <td>0.323246</td>\n",
       "      <td>0.000000</td>\n",
       "      <td>0.0000</td>\n",
       "      <td>0.000548</td>\n",
       "      <td>0.258</td>\n",
       "      <td>0.991</td>\n",
       "    </tr>\n",
       "    <tr>\n",
       "      <th>liveness</th>\n",
       "      <td>28633.0</td>\n",
       "      <td>0.188734</td>\n",
       "      <td>0.155477</td>\n",
       "      <td>0.012300</td>\n",
       "      <td>0.0933</td>\n",
       "      <td>0.124000</td>\n",
       "      <td>0.233</td>\n",
       "      <td>0.987</td>\n",
       "    </tr>\n",
       "    <tr>\n",
       "      <th>valence</th>\n",
       "      <td>28633.0</td>\n",
       "      <td>0.436542</td>\n",
       "      <td>0.238864</td>\n",
       "      <td>0.000010</td>\n",
       "      <td>0.2430</td>\n",
       "      <td>0.421000</td>\n",
       "      <td>0.614</td>\n",
       "      <td>0.989</td>\n",
       "    </tr>\n",
       "    <tr>\n",
       "      <th>tempo</th>\n",
       "      <td>28633.0</td>\n",
       "      <td>122.265694</td>\n",
       "      <td>24.941828</td>\n",
       "      <td>35.582000</td>\n",
       "      <td>106.9940</td>\n",
       "      <td>123.964000</td>\n",
       "      <td>132.002</td>\n",
       "      <td>247.939</td>\n",
       "    </tr>\n",
       "  </tbody>\n",
       "</table>\n",
       "</div>"
      ],
      "text/plain": [
       "                    count        mean        std        min       25%  \\\n",
       "danceability      28633.0    0.636368   0.162605   0.058100    0.5470   \n",
       "energy            28633.0    0.674229   0.217363   0.001500    0.5550   \n",
       "key               28633.0    5.401600   3.643186   0.000000    2.0000   \n",
       "loudness          28633.0   -7.676900   4.535807 -45.980000   -8.7920   \n",
       "mode              28633.0    0.537212   0.498622   0.000000    0.0000   \n",
       "speechiness       28633.0    0.096090   0.099357   0.022200    0.0401   \n",
       "acousticness      28633.0    0.206759   0.276581   0.000002    0.0123   \n",
       "instrumentalness  28633.0    0.192998   0.323246   0.000000    0.0000   \n",
       "liveness          28633.0    0.188734   0.155477   0.012300    0.0933   \n",
       "valence           28633.0    0.436542   0.238864   0.000010    0.2430   \n",
       "tempo             28633.0  122.265694  24.941828  35.582000  106.9940   \n",
       "\n",
       "                         50%      75%      max  \n",
       "danceability        0.663000    0.757    0.985  \n",
       "energy              0.714000    0.837    1.000  \n",
       "key                 6.000000    9.000   11.000  \n",
       "loudness           -6.668000   -5.068    0.920  \n",
       "mode                1.000000    1.000    1.000  \n",
       "speechiness         0.055800    0.102    0.964  \n",
       "acousticness        0.071000    0.284    0.996  \n",
       "instrumentalness    0.000548    0.258    0.991  \n",
       "liveness            0.124000    0.233    0.987  \n",
       "valence             0.421000    0.614    0.989  \n",
       "tempo             123.964000  132.002  247.939  "
      ]
     },
     "execution_count": 8,
     "metadata": {},
     "output_type": "execute_result"
    }
   ],
   "source": [
    "X.describe().T"
   ]
  },
  {
   "cell_type": "markdown",
   "id": "4e79b905",
   "metadata": {},
   "source": [
    "### Preprocessing"
   ]
  },
  {
   "cell_type": "code",
   "execution_count": 9,
   "id": "72ffe16a",
   "metadata": {},
   "outputs": [],
   "source": [
    "from sklearn.preprocessing import StandardScaler\n",
    "\n",
    "scaler = StandardScaler()\n",
    "X_scaled = scaler.fit_transform(X)"
   ]
  },
  {
   "cell_type": "code",
   "execution_count": 10,
   "id": "ba232be8",
   "metadata": {},
   "outputs": [
    {
     "data": {
      "text/html": [
       "<div>\n",
       "<style scoped>\n",
       "    .dataframe tbody tr th:only-of-type {\n",
       "        vertical-align: middle;\n",
       "    }\n",
       "\n",
       "    .dataframe tbody tr th {\n",
       "        vertical-align: top;\n",
       "    }\n",
       "\n",
       "    .dataframe thead th {\n",
       "        text-align: right;\n",
       "    }\n",
       "</style>\n",
       "<table border=\"1\" class=\"dataframe\">\n",
       "  <thead>\n",
       "    <tr style=\"text-align: right;\">\n",
       "      <th></th>\n",
       "      <th>count</th>\n",
       "      <th>mean</th>\n",
       "      <th>std</th>\n",
       "      <th>min</th>\n",
       "      <th>25%</th>\n",
       "      <th>50%</th>\n",
       "      <th>75%</th>\n",
       "      <th>max</th>\n",
       "    </tr>\n",
       "  </thead>\n",
       "  <tbody>\n",
       "    <tr>\n",
       "      <th>0</th>\n",
       "      <td>28633.0</td>\n",
       "      <td>4.768379e-16</td>\n",
       "      <td>1.000017</td>\n",
       "      <td>-3.556331</td>\n",
       "      <td>-0.549612</td>\n",
       "      <td>0.163784</td>\n",
       "      <td>0.741881</td>\n",
       "      <td>2.144073</td>\n",
       "    </tr>\n",
       "    <tr>\n",
       "      <th>1</th>\n",
       "      <td>28633.0</td>\n",
       "      <td>-6.110705e-16</td>\n",
       "      <td>1.000017</td>\n",
       "      <td>-3.095011</td>\n",
       "      <td>-0.548534</td>\n",
       "      <td>0.182975</td>\n",
       "      <td>0.748859</td>\n",
       "      <td>1.498770</td>\n",
       "    </tr>\n",
       "    <tr>\n",
       "      <th>2</th>\n",
       "      <td>28633.0</td>\n",
       "      <td>4.294267e-15</td>\n",
       "      <td>1.000017</td>\n",
       "      <td>-1.482684</td>\n",
       "      <td>-0.933704</td>\n",
       "      <td>0.164255</td>\n",
       "      <td>0.987724</td>\n",
       "      <td>1.536704</td>\n",
       "    </tr>\n",
       "    <tr>\n",
       "      <th>3</th>\n",
       "      <td>28633.0</td>\n",
       "      <td>2.792827e-16</td>\n",
       "      <td>1.000017</td>\n",
       "      <td>-8.444752</td>\n",
       "      <td>-0.245848</td>\n",
       "      <td>0.222434</td>\n",
       "      <td>0.575189</td>\n",
       "      <td>1.895374</td>\n",
       "    </tr>\n",
       "    <tr>\n",
       "      <th>4</th>\n",
       "      <td>28633.0</td>\n",
       "      <td>-2.111940e-15</td>\n",
       "      <td>1.000017</td>\n",
       "      <td>-1.077413</td>\n",
       "      <td>-1.077413</td>\n",
       "      <td>0.928149</td>\n",
       "      <td>0.928149</td>\n",
       "      <td>0.928149</td>\n",
       "    </tr>\n",
       "    <tr>\n",
       "      <th>5</th>\n",
       "      <td>28633.0</td>\n",
       "      <td>5.027081e-18</td>\n",
       "      <td>1.000017</td>\n",
       "      <td>-0.743694</td>\n",
       "      <td>-0.563533</td>\n",
       "      <td>-0.405515</td>\n",
       "      <td>0.059481</td>\n",
       "      <td>8.735386</td>\n",
       "    </tr>\n",
       "    <tr>\n",
       "      <th>6</th>\n",
       "      <td>28633.0</td>\n",
       "      <td>1.428017e-16</td>\n",
       "      <td>1.000017</td>\n",
       "      <td>-0.747561</td>\n",
       "      <td>-0.703094</td>\n",
       "      <td>-0.490857</td>\n",
       "      <td>0.279274</td>\n",
       "      <td>2.853607</td>\n",
       "    </tr>\n",
       "    <tr>\n",
       "      <th>7</th>\n",
       "      <td>28633.0</td>\n",
       "      <td>8.974724e-15</td>\n",
       "      <td>1.000017</td>\n",
       "      <td>-0.597074</td>\n",
       "      <td>-0.597074</td>\n",
       "      <td>-0.595378</td>\n",
       "      <td>0.201094</td>\n",
       "      <td>2.468756</td>\n",
       "    </tr>\n",
       "    <tr>\n",
       "      <th>8</th>\n",
       "      <td>28633.0</td>\n",
       "      <td>2.160947e-16</td>\n",
       "      <td>1.000017</td>\n",
       "      <td>-1.134813</td>\n",
       "      <td>-0.613825</td>\n",
       "      <td>-0.416364</td>\n",
       "      <td>0.284718</td>\n",
       "      <td>5.134404</td>\n",
       "    </tr>\n",
       "    <tr>\n",
       "      <th>9</th>\n",
       "      <td>28633.0</td>\n",
       "      <td>-2.695973e-16</td>\n",
       "      <td>1.000017</td>\n",
       "      <td>-1.827566</td>\n",
       "      <td>-0.810274</td>\n",
       "      <td>-0.065066</td>\n",
       "      <td>0.742941</td>\n",
       "      <td>2.312902</td>\n",
       "    </tr>\n",
       "    <tr>\n",
       "      <th>10</th>\n",
       "      <td>28633.0</td>\n",
       "      <td>-1.523159e-16</td>\n",
       "      <td>1.000017</td>\n",
       "      <td>-3.475495</td>\n",
       "      <td>-0.612303</td>\n",
       "      <td>0.068092</td>\n",
       "      <td>0.390367</td>\n",
       "      <td>5.038745</td>\n",
       "    </tr>\n",
       "  </tbody>\n",
       "</table>\n",
       "</div>"
      ],
      "text/plain": [
       "      count          mean       std       min       25%       50%       75%  \\\n",
       "0   28633.0  4.768379e-16  1.000017 -3.556331 -0.549612  0.163784  0.741881   \n",
       "1   28633.0 -6.110705e-16  1.000017 -3.095011 -0.548534  0.182975  0.748859   \n",
       "2   28633.0  4.294267e-15  1.000017 -1.482684 -0.933704  0.164255  0.987724   \n",
       "3   28633.0  2.792827e-16  1.000017 -8.444752 -0.245848  0.222434  0.575189   \n",
       "4   28633.0 -2.111940e-15  1.000017 -1.077413 -1.077413  0.928149  0.928149   \n",
       "5   28633.0  5.027081e-18  1.000017 -0.743694 -0.563533 -0.405515  0.059481   \n",
       "6   28633.0  1.428017e-16  1.000017 -0.747561 -0.703094 -0.490857  0.279274   \n",
       "7   28633.0  8.974724e-15  1.000017 -0.597074 -0.597074 -0.595378  0.201094   \n",
       "8   28633.0  2.160947e-16  1.000017 -1.134813 -0.613825 -0.416364  0.284718   \n",
       "9   28633.0 -2.695973e-16  1.000017 -1.827566 -0.810274 -0.065066  0.742941   \n",
       "10  28633.0 -1.523159e-16  1.000017 -3.475495 -0.612303  0.068092  0.390367   \n",
       "\n",
       "         max  \n",
       "0   2.144073  \n",
       "1   1.498770  \n",
       "2   1.536704  \n",
       "3   1.895374  \n",
       "4   0.928149  \n",
       "5   8.735386  \n",
       "6   2.853607  \n",
       "7   2.468756  \n",
       "8   5.134404  \n",
       "9   2.312902  \n",
       "10  5.038745  "
      ]
     },
     "execution_count": 10,
     "metadata": {},
     "output_type": "execute_result"
    }
   ],
   "source": [
    "pd.DataFrame(X_scaled).describe().T"
   ]
  },
  {
   "cell_type": "markdown",
   "id": "08e1c87f",
   "metadata": {},
   "source": [
    "### Choosing k"
   ]
  },
  {
   "cell_type": "code",
   "execution_count": 11,
   "id": "1cf036be",
   "metadata": {},
   "outputs": [
    {
     "data": {
      "text/plain": [
       "Text(0.5, 1.0, 'Elbow Method showing the optimal k')"
      ]
     },
     "execution_count": 11,
     "metadata": {},
     "output_type": "execute_result"
    },
    {
     "data": {
      "image/png": "[encoded data removed]",
      "text/plain": [
       "<Figure size 1152x576 with 1 Axes>"
      ]
     },
     "metadata": {
      "needs_background": "light"
     },
     "output_type": "display_data"
    }
   ],
   "source": [
    "import numpy as np\n",
    "from sklearn.cluster import KMeans\n",
    "\n",
    "K = range(2, 20)\n",
    "inertia = []\n",
    "\n",
    "for k in K:\n",
    "    kmeans = KMeans(n_clusters=k,\n",
    "                    random_state=1234)\n",
    "    kmeans.fit(X_scaled)\n",
    "    inertia.append(kmeans.inertia_)\n",
    "\n",
    "import matplotlib.pyplot as plt\n",
    "%matplotlib inline\n",
    "\n",
    "plt.figure(figsize=(16,8))\n",
    "plt.plot(K, inertia, 'bx-')\n",
    "plt.xlabel('k')\n",
    "plt.ylabel('inertia')\n",
    "plt.xticks(np.arange(min(K), max(K)+1, 1.0))\n",
    "plt.title('Elbow Method showing the optimal k')"
   ]
  },
  {
   "cell_type": "code",
   "execution_count": 12,
   "id": "374bc7ee",
   "metadata": {},
   "outputs": [
    {
     "data": {
      "text/plain": [
       "Text(0.5, 1.0, 'Elbow Method showing the optimal k')"
      ]
     },
     "execution_count": 12,
     "metadata": {},
     "output_type": "execute_result"
    },
    {
     "data": {
      "image/png": "[encoded data removed]",
      "text/plain": [
       "<Figure size 1152x576 with 1 Axes>"
      ]
     },
     "metadata": {
      "needs_background": "light"
     },
     "output_type": "display_data"
    }
   ],
   "source": [
    "from sklearn.metrics import silhouette_score\n",
    "K = range(2, 20)\n",
    "silhouette = []\n",
    "\n",
    "for k in K:\n",
    "    kmeans = KMeans(n_clusters=k,\n",
    "                    random_state=1234)\n",
    "    kmeans.fit(X_scaled)\n",
    "    silhouette.append(silhouette_score(X_scaled, kmeans.predict(X_scaled)))\n",
    "\n",
    "\n",
    "plt.figure(figsize=(16,8))\n",
    "plt.plot(K, silhouette, 'bx-')\n",
    "plt.xlabel('k')\n",
    "plt.ylabel('silhouette score')\n",
    "plt.xticks(np.arange(min(K), max(K)+1, 1.0))\n",
    "plt.title('Elbow Method showing the optimal k')"
   ]
  },
  {
   "cell_type": "code",
   "execution_count": 13,
   "id": "7f5df101",
   "metadata": {},
   "outputs": [
    {
     "data": {
      "text/plain": [
       "0    6416\n",
       "1    6751\n",
       "2    4201\n",
       "3    2589\n",
       "4    3086\n",
       "5    2226\n",
       "6    1855\n",
       "7    1509\n",
       "dtype: int64"
      ]
     },
     "execution_count": 13,
     "metadata": {},
     "output_type": "execute_result"
    }
   ],
   "source": [
    "# I choose 8 clusters\n",
    "\n",
    "kmeans = KMeans(n_clusters=8, random_state=1234)\n",
    "kmeans.fit(X_scaled)\n",
    "clusters = kmeans.predict(X_scaled)\n",
    "pd.Series(clusters).value_counts().sort_index()"
   ]
  },
  {
   "cell_type": "code",
   "execution_count": 14,
   "id": "2a97fd16",
   "metadata": {},
   "outputs": [],
   "source": [
    "# db_songs = pd.concat([pd.DataFrame(X, \n",
    "#            columns=['danceability', 'energy', 'key', 'loudness', 'mode', 'speechiness', 'acousticness', \n",
    "#            'instrumentalness', 'liveness', 'valence', 'tempo', 'duration_ms', 'time_signature']), \n",
    "#            pd.DataFrame(clusters, columns=[\"cluster\"])], axis=1)\n",
    "audio_clustered = pd.concat([pd.DataFrame(X, columns=['danceability', 'energy', 'key', 'loudness', 'mode', 'speechiness', 'acousticness', 'instrumentalness', 'liveness', 'valence', 'tempo']), pd.DataFrame(clusters, columns=[\"cluster\"])], axis=1)\n",
    "db_songs = pd.concat([db_songs, pd.DataFrame(clusters, columns=[\"cluster\"])], axis=1)"
   ]
  },
  {
   "cell_type": "code",
   "execution_count": 15,
   "id": "f56638ad",
   "metadata": {},
   "outputs": [],
   "source": [
    "# saving\n",
    "with open(\"audio_clustered.txt\", \"wb\") as f:   #Pickling\n",
    "    pickle.dump(audio_clustered, f)\n",
    "\n",
    "with open(\"db_songs_clustered.txt\", \"wb\") as f:   #Pickling\n",
    "    pickle.dump(db_songs, f)"
   ]
  },
  {
   "cell_type": "code",
   "execution_count": 16,
   "id": "07dcea65",
   "metadata": {},
   "outputs": [
    {
     "data": {
      "text/html": [
       "<div>\n",
       "<style scoped>\n",
       "    .dataframe tbody tr th:only-of-type {\n",
       "        vertical-align: middle;\n",
       "    }\n",
       "\n",
       "    .dataframe tbody tr th {\n",
       "        vertical-align: top;\n",
       "    }\n",
       "\n",
       "    .dataframe thead th {\n",
       "        text-align: right;\n",
       "    }\n",
       "</style>\n",
       "<table border=\"1\" class=\"dataframe\">\n",
       "  <thead>\n",
       "    <tr style=\"text-align: right;\">\n",
       "      <th></th>\n",
       "      <th>danceability</th>\n",
       "      <th>energy</th>\n",
       "      <th>key</th>\n",
       "      <th>loudness</th>\n",
       "      <th>mode</th>\n",
       "      <th>speechiness</th>\n",
       "      <th>acousticness</th>\n",
       "      <th>instrumentalness</th>\n",
       "      <th>liveness</th>\n",
       "      <th>valence</th>\n",
       "      <th>tempo</th>\n",
       "      <th>cluster</th>\n",
       "    </tr>\n",
       "  </thead>\n",
       "  <tbody>\n",
       "    <tr>\n",
       "      <th>0</th>\n",
       "      <td>0.604</td>\n",
       "      <td>0.366</td>\n",
       "      <td>5.0</td>\n",
       "      <td>-7.519</td>\n",
       "      <td>1.0</td>\n",
       "      <td>0.0282</td>\n",
       "      <td>0.57800</td>\n",
       "      <td>0.0000</td>\n",
       "      <td>0.1330</td>\n",
       "      <td>0.130</td>\n",
       "      <td>141.981</td>\n",
       "      <td>3</td>\n",
       "    </tr>\n",
       "    <tr>\n",
       "      <th>1</th>\n",
       "      <td>0.556</td>\n",
       "      <td>0.319</td>\n",
       "      <td>9.0</td>\n",
       "      <td>-8.251</td>\n",
       "      <td>1.0</td>\n",
       "      <td>0.0281</td>\n",
       "      <td>0.89300</td>\n",
       "      <td>0.0000</td>\n",
       "      <td>0.0996</td>\n",
       "      <td>0.294</td>\n",
       "      <td>135.187</td>\n",
       "      <td>3</td>\n",
       "    </tr>\n",
       "    <tr>\n",
       "      <th>2</th>\n",
       "      <td>0.534</td>\n",
       "      <td>0.725</td>\n",
       "      <td>1.0</td>\n",
       "      <td>-3.906</td>\n",
       "      <td>1.0</td>\n",
       "      <td>0.0460</td>\n",
       "      <td>0.09100</td>\n",
       "      <td>0.0000</td>\n",
       "      <td>0.0264</td>\n",
       "      <td>0.550</td>\n",
       "      <td>88.098</td>\n",
       "      <td>0</td>\n",
       "    </tr>\n",
       "    <tr>\n",
       "      <th>3</th>\n",
       "      <td>0.578</td>\n",
       "      <td>0.430</td>\n",
       "      <td>5.0</td>\n",
       "      <td>-6.134</td>\n",
       "      <td>0.0</td>\n",
       "      <td>0.0305</td>\n",
       "      <td>0.33000</td>\n",
       "      <td>0.0000</td>\n",
       "      <td>0.0854</td>\n",
       "      <td>0.288</td>\n",
       "      <td>78.991</td>\n",
       "      <td>3</td>\n",
       "    </tr>\n",
       "    <tr>\n",
       "      <th>4</th>\n",
       "      <td>0.703</td>\n",
       "      <td>0.680</td>\n",
       "      <td>9.0</td>\n",
       "      <td>-6.118</td>\n",
       "      <td>0.0</td>\n",
       "      <td>0.0431</td>\n",
       "      <td>0.01710</td>\n",
       "      <td>0.0000</td>\n",
       "      <td>0.1780</td>\n",
       "      <td>0.536</td>\n",
       "      <td>97.985</td>\n",
       "      <td>1</td>\n",
       "    </tr>\n",
       "    <tr>\n",
       "      <th>...</th>\n",
       "      <td>...</td>\n",
       "      <td>...</td>\n",
       "      <td>...</td>\n",
       "      <td>...</td>\n",
       "      <td>...</td>\n",
       "      <td>...</td>\n",
       "      <td>...</td>\n",
       "      <td>...</td>\n",
       "      <td>...</td>\n",
       "      <td>...</td>\n",
       "      <td>...</td>\n",
       "      <td>...</td>\n",
       "    </tr>\n",
       "    <tr>\n",
       "      <th>28628</th>\n",
       "      <td>0.835</td>\n",
       "      <td>0.765</td>\n",
       "      <td>1.0</td>\n",
       "      <td>-7.912</td>\n",
       "      <td>1.0</td>\n",
       "      <td>0.0430</td>\n",
       "      <td>0.00543</td>\n",
       "      <td>0.0162</td>\n",
       "      <td>0.0829</td>\n",
       "      <td>0.274</td>\n",
       "      <td>122.983</td>\n",
       "      <td>0</td>\n",
       "    </tr>\n",
       "    <tr>\n",
       "      <th>28629</th>\n",
       "      <td>0.835</td>\n",
       "      <td>0.765</td>\n",
       "      <td>1.0</td>\n",
       "      <td>-7.912</td>\n",
       "      <td>1.0</td>\n",
       "      <td>0.0430</td>\n",
       "      <td>0.00543</td>\n",
       "      <td>0.0162</td>\n",
       "      <td>0.0829</td>\n",
       "      <td>0.274</td>\n",
       "      <td>122.983</td>\n",
       "      <td>0</td>\n",
       "    </tr>\n",
       "    <tr>\n",
       "      <th>28630</th>\n",
       "      <td>0.696</td>\n",
       "      <td>0.937</td>\n",
       "      <td>1.0</td>\n",
       "      <td>-6.686</td>\n",
       "      <td>1.0</td>\n",
       "      <td>0.0900</td>\n",
       "      <td>0.00104</td>\n",
       "      <td>0.1870</td>\n",
       "      <td>0.0948</td>\n",
       "      <td>0.499</td>\n",
       "      <td>124.965</td>\n",
       "      <td>0</td>\n",
       "    </tr>\n",
       "    <tr>\n",
       "      <th>28631</th>\n",
       "      <td>0.696</td>\n",
       "      <td>0.937</td>\n",
       "      <td>1.0</td>\n",
       "      <td>-6.686</td>\n",
       "      <td>1.0</td>\n",
       "      <td>0.0900</td>\n",
       "      <td>0.00104</td>\n",
       "      <td>0.1870</td>\n",
       "      <td>0.0948</td>\n",
       "      <td>0.499</td>\n",
       "      <td>124.965</td>\n",
       "      <td>0</td>\n",
       "    </tr>\n",
       "    <tr>\n",
       "      <th>28632</th>\n",
       "      <td>0.843</td>\n",
       "      <td>0.825</td>\n",
       "      <td>8.0</td>\n",
       "      <td>-7.881</td>\n",
       "      <td>0.0</td>\n",
       "      <td>0.0650</td>\n",
       "      <td>0.00266</td>\n",
       "      <td>0.3220</td>\n",
       "      <td>0.1320</td>\n",
       "      <td>0.509</td>\n",
       "      <td>124.978</td>\n",
       "      <td>1</td>\n",
       "    </tr>\n",
       "  </tbody>\n",
       "</table>\n",
       "<p>28633 rows × 12 columns</p>\n",
       "</div>"
      ],
      "text/plain": [
       "       danceability  energy  key  loudness  mode  speechiness  acousticness  \\\n",
       "0             0.604   0.366  5.0    -7.519   1.0       0.0282       0.57800   \n",
       "1             0.556   0.319  9.0    -8.251   1.0       0.0281       0.89300   \n",
       "2             0.534   0.725  1.0    -3.906   1.0       0.0460       0.09100   \n",
       "3             0.578   0.430  5.0    -6.134   0.0       0.0305       0.33000   \n",
       "4             0.703   0.680  9.0    -6.118   0.0       0.0431       0.01710   \n",
       "...             ...     ...  ...       ...   ...          ...           ...   \n",
       "28628         0.835   0.765  1.0    -7.912   1.0       0.0430       0.00543   \n",
       "28629         0.835   0.765  1.0    -7.912   1.0       0.0430       0.00543   \n",
       "28630         0.696   0.937  1.0    -6.686   1.0       0.0900       0.00104   \n",
       "28631         0.696   0.937  1.0    -6.686   1.0       0.0900       0.00104   \n",
       "28632         0.843   0.825  8.0    -7.881   0.0       0.0650       0.00266   \n",
       "\n",
       "       instrumentalness  liveness  valence    tempo  cluster  \n",
       "0                0.0000    0.1330    0.130  141.981        3  \n",
       "1                0.0000    0.0996    0.294  135.187        3  \n",
       "2                0.0000    0.0264    0.550   88.098        0  \n",
       "3                0.0000    0.0854    0.288   78.991        3  \n",
       "4                0.0000    0.1780    0.536   97.985        1  \n",
       "...                 ...       ...      ...      ...      ...  \n",
       "28628            0.0162    0.0829    0.274  122.983        0  \n",
       "28629            0.0162    0.0829    0.274  122.983        0  \n",
       "28630            0.1870    0.0948    0.499  124.965        0  \n",
       "28631            0.1870    0.0948    0.499  124.965        0  \n",
       "28632            0.3220    0.1320    0.509  124.978        1  \n",
       "\n",
       "[28633 rows x 12 columns]"
      ]
     },
     "execution_count": 16,
     "metadata": {},
     "output_type": "execute_result"
    }
   ],
   "source": [
    "audio_clustered"
   ]
  },
  {
   "cell_type": "code",
   "execution_count": 17,
   "id": "727d2cec",
   "metadata": {},
   "outputs": [],
   "source": [
    "# db_songs = pd.concat([pd.DataFrame(X_scaled, \n",
    "#                     columns=['danceability', 'energy', 'key', 'loudness', 'mode', 'speechiness', 'acousticness', \n",
    "#                     'instrumentalness', 'liveness', 'valence', 'tempo']), \n",
    "#                     pd.DataFrame(clusters, columns=[\"cluster\"])], axis=1)\n",
    "audio_scaled_clustered = pd.concat([pd.DataFrame(X_scaled, columns=['danceability', 'energy', 'key', 'loudness', 'mode', 'speechiness', 'acousticness', 'instrumentalness', 'liveness', 'valence', 'tempo']), pd.DataFrame(clusters, columns=[\"cluster\"])], axis=1)"
   ]
  },
  {
   "cell_type": "markdown",
   "id": "568daf84",
   "metadata": {},
   "source": [
    "### Applying PCA"
   ]
  },
  {
   "cell_type": "code",
   "execution_count": 18,
   "id": "62729ab8",
   "metadata": {},
   "outputs": [],
   "source": [
    "from sklearn.decomposition import PCA"
   ]
  },
  {
   "cell_type": "code",
   "execution_count": 19,
   "id": "fa50d41f",
   "metadata": {},
   "outputs": [],
   "source": [
    "import matplotlib.pyplot as plt\n",
    "%matplotlib inline"
   ]
  },
  {
   "cell_type": "code",
   "execution_count": 20,
   "id": "d1acfd67",
   "metadata": {},
   "outputs": [
    {
     "data": {
      "text/plain": [
       "array([0.26, 0.12, 0.11, 0.1 , 0.08, 0.08, 0.07, 0.07, 0.05, 0.03, 0.01])"
      ]
     },
     "execution_count": 20,
     "metadata": {},
     "output_type": "execute_result"
    }
   ],
   "source": [
    "pca = PCA()\n",
    "pca.fit(X_scaled)\n",
    "pca.explained_variance_ratio_.round(2)"
   ]
  },
  {
   "cell_type": "code",
   "execution_count": 21,
   "id": "255dbb2e",
   "metadata": {},
   "outputs": [
    {
     "data": {
      "image/png": "[encoded data removed]",
      "text/plain": [
       "<Figure size 432x288 with 1 Axes>"
      ]
     },
     "metadata": {
      "needs_background": "light"
     },
     "output_type": "display_data"
    }
   ],
   "source": [
    "import numpy as np\n",
    "exp_var_pca = pca.explained_variance_ratio_\n",
    "\n",
    "# Cumulative sum of eigenvalues; This will be used to create step plot\n",
    "# for visualizing the variance explained by each principal component.\n",
    "\n",
    "cum_sum_eigenvalues = np.cumsum(exp_var_pca)\n",
    "\n",
    "# Create the visualization plot\n",
    "plt.bar(range(0,len(exp_var_pca)), exp_var_pca, \n",
    "        alpha=0.5, align='center', label='Individual explained variance')\n",
    "plt.step(range(0,len(cum_sum_eigenvalues)), cum_sum_eigenvalues, \n",
    "         where='mid',label='Cumulative explained variance')\n",
    "plt.ylabel('Explained variance ratio')\n",
    "plt.xlabel('Principal component index')\n",
    "plt.legend(loc='best')\n",
    "plt.tight_layout()\n",
    "plt.show()"
   ]
  },
  {
   "cell_type": "code",
   "execution_count": 22,
   "id": "79c1e0bc",
   "metadata": {},
   "outputs": [],
   "source": [
    "pca = PCA(0.9)\n",
    "pca.fit(X_scaled)\n",
    "X_pca = pca.transform(X_scaled)"
   ]
  },
  {
   "cell_type": "code",
   "execution_count": 23,
   "id": "219465d2",
   "metadata": {},
   "outputs": [
    {
     "data": {
      "text/plain": [
       "array([0.2633319 , 0.12140917, 0.11467457, 0.10347039, 0.08471538,\n",
       "       0.07984884, 0.07364252, 0.0675537 ])"
      ]
     },
     "execution_count": 23,
     "metadata": {},
     "output_type": "execute_result"
    }
   ],
   "source": [
    "pca.explained_variance_ratio_"
   ]
  },
  {
   "cell_type": "code",
   "execution_count": 24,
   "id": "c4061ac8",
   "metadata": {},
   "outputs": [],
   "source": [
    "# saving the models\n",
    "pickle.dump(kmeans, open('model.p', 'wb'))\n",
    "pickle.dump(pca, open('pca_model.p', 'wb'))\n",
    "pickle.dump(scaler, open('scaler.p', 'wb'))"
   ]
  },
  {
   "cell_type": "code",
   "execution_count": null,
   "id": "cde5a2e7",
   "metadata": {},
   "outputs": [],
   "source": []
  }
 ],
 "metadata": {
  "kernelspec": {
   "display_name": "Python 3",
   "language": "python",
   "name": "python3"
  },
  "language_info": {
   "codemirror_mode": {
    "name": "ipython",
    "version": 3
   },
   "file_extension": ".py",
   "mimetype": "text/x-python",
   "name": "python",
   "nbconvert_exporter": "python",
   "pygments_lexer": "ipython3",
   "version": "3.8.8"
  }
 },
 "nbformat": 4,
 "nbformat_minor": 5
}
